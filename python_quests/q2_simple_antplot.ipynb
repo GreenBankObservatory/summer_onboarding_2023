{
 "cells": [
  {
   "cell_type": "code",
   "execution_count": 10,
   "id": "836708d9",
   "metadata": {},
   "outputs": [],
   "source": [
    "import os\n",
    "import re\n",
    "from pathlib import Path\n",
    "import numpy as np\n",
    "from astropy.io import fits\n",
    "from astropy.table import Table, Column\n",
    "from astropy.table import vstack, hstack\n",
    "import astropy.coordinates as coord\n",
    "import astropy.units as u\n",
    "import matplotlib.pyplot as plt\n",
    "from tqdm import tqdm"
   ]
  },
  {
   "cell_type": "code",
   "execution_count": 19,
   "id": "2955488a",
   "metadata": {},
   "outputs": [],
   "source": [
    "def get_raj_decj_data(filepath: str):\n",
    "    \"\"\"Returns the RA and DEC data from a given FITS file\"\"\"\n",
    "    table = Table.read(filepath, hdu=2)\n",
    "    return hstack([table[\"RAJ2000\"], table[\"DECJ2000\"]])\n",
    "\n",
    "\n",
    "def print_values(filepath: str):\n",
    "    \"\"\"Simply prints the highest and lowest RA/DEC values from a FITS file\"\"\"\n",
    "    table = get_raj_decj_data(filepath)\n",
    "    ra = table[\"RAJ2000\"]\n",
    "    dec = table[\"DECJ2000\"]\n",
    "    print(\n",
    "        \"The lowest and highest values of the RAJ2000 data are\"\n",
    "        f\" {ra.min()} and {ra.max()}. The lowest and highest values\"\n",
    "        f\" of the DECJ2000 data are {dec.min()} and {dec.max()}.\"\n",
    "    )\n",
    "\n",
    "\n",
    "def plot_one_file(filepath: str):\n",
    "    \"\"\"Generates scatterplot of RA vs. DEC data for one file\"\"\"\n",
    "    data = get_raj_decj_data(filepath)\n",
    "    plt.scatter(data[\"DECJ2000\"], data[\"RAJ2000\"])\n",
    "    plt.title(\"RAJ2000 vs. DECJ2000\")\n",
    "    plt.xlabel(\"deg\")\n",
    "    plt.ylabel(\"deg\")\n",
    "    plt.show()\n",
    "\n",
    "\n",
    "def stack_tables(directory: str):\n",
    "    \"\"\"Returns combined tables of RA and DEC data for all files in a directory\"\"\"\n",
    "    stacked_tables = []\n",
    "    for filename in Path(directory).glob(\"*\"):\n",
    "        table = get_raj_decj_data(filename)\n",
    "        stacked_tables.append(table)\n",
    "    return vstack(stacked_tables)\n",
    "\n",
    "\n",
    "def expanded_stack_tables(rootdir: str):\n",
    "    \"\"\"Combines RA, DEC data for files in subdirectories within a directory\"\"\"\n",
    "    stacked_tables = []\n",
    "    paths = list(Path(rootdir).glob(\"*/Antenna/*.fits\"))\n",
    "    for path in tqdm(paths):\n",
    "        print(f\"Loading {path}\")\n",
    "        table = get_raj_decj_data(path)\n",
    "        stacked_tables.append(table)\n",
    "    return vstack(stacked_tables)\n",
    "\n",
    "\n",
    "def separated_stack_tables_dict(rootdir: str):\n",
    "    \"\"\"Returns a dictionary of RA, DEC data corresponding to different projects\"\"\"\n",
    "    tables = {}\n",
    "    for subdir in tqdm(os.listdir(rootdir)):\n",
    "        project_match = re.match(r\"[a-zA-Z0-9]+[_][\\d]+[_]\", str(subdir))\n",
    "        if not project_match:\n",
    "            raise ValueError(\"File does not match naming format\")\n",
    "        else:\n",
    "            project = project_match.group(0)[:-1]\n",
    "        # split = subdir.split(\"_\")\n",
    "        # project = \"_\".join(split[:-1])\n",
    "        paths = list(Path(os.path.join(rootdir, subdir)).glob(\"Antenna/*.fits\"))\n",
    "        for path in paths:\n",
    "            table = get_raj_decj_data(path)\n",
    "            if project not in list(tables):\n",
    "                tables[project] = [table]\n",
    "            else:\n",
    "                tables[project].append(table)\n",
    "        print(list(tables))\n",
    "    for project in tables:\n",
    "        tables[project] = vstack(tables[project])\n",
    "    return tables\n",
    "\n",
    "\n",
    "def separated_stack_tables_table(rootdir: str):\n",
    "    \"\"\"Returns a table of RA, DEC, project name data\"\"\"\n",
    "    stacked_table = []\n",
    "    projects = []\n",
    "    for subdir in tqdm(os.listdir(rootdir)):\n",
    "        split = subdir.split(\"_\")\n",
    "        project = \"_\".join(split[:-1])\n",
    "        paths = list(Path(os.path.join(rootdir, subdir)).glob(\"Antenna/*.fits\"))\n",
    "        for path in paths:\n",
    "            table = Table.read(path, hdu=2)\n",
    "            formatted_table = hstack(\n",
    "                [\n",
    "                    table[\"RAJ2000\"],\n",
    "                    table[\"DECJ2000\"],\n",
    "                    Column(name=\"Project\", data=np.full(len(table), project)),\n",
    "                ]\n",
    "            )\n",
    "            stacked_table.append(formatted_table)\n",
    "            if project not in projects:\n",
    "                projects.append(project)\n",
    "    return vstack(stacked_table), projects\n",
    "\n",
    "\n",
    "def plot_all_files(directory: str):\n",
    "    \"\"\"Generates scatterplot of RA vs. DEC data for all files in a directory\"\"\"\n",
    "    table = stack_tables(directory)\n",
    "    plt.scatter(table[\"DECJ2000\"], table[\"RAJ2000\"], s=0.5)\n",
    "    plt.xlabel(\"deg\")\n",
    "    plt.ylabel(\"deg\")\n",
    "    plt.show()\n",
    "\n",
    "\n",
    "def projection(directory: str):\n",
    "    \"\"\"Plots a Mollweide projection for stacked data in a directory\"\"\"\n",
    "    table = stack_tables(directory)\n",
    "    ra = coord.Angle(table[\"RAJ2000\"])\n",
    "    ra = ra.wrap_at(180 * u.degree)\n",
    "    dec = coord.Angle(table[\"DECJ2000\"])\n",
    "    fig = plt.figure(figsize=(8, 6))\n",
    "    ax = fig.add_subplot(111, projection=\"mollweide\")\n",
    "    ax.scatter(ra.radian, dec.radian, s=0.5)\n",
    "    ax.set_xticklabels(\n",
    "        [\"14h\", \"16h\", \"18h\", \"20h\", \"22h\", \"0h\", \"2h\", \"4h\", \"6h\", \"8h\", \"10h\"]\n",
    "    )\n",
    "    ax.grid(True)\n",
    "    fig.show()\n",
    "\n",
    "\n",
    "def expanded_projection(directory: str):\n",
    "    \"\"\"Plots a Mollweide projection for stacked data in a directory\"\"\"\n",
    "    table = expanded_stack_tables(directory)\n",
    "    ra = coord.Angle(table[\"RAJ2000\"])\n",
    "    ra = ra.wrap_at(180 * u.degree)\n",
    "    dec = coord.Angle(table[\"DECJ2000\"])\n",
    "    fig = plt.figure(figsize=(8, 6))\n",
    "    ax = fig.add_subplot(111, projection=\"mollweide\")\n",
    "    ax.scatter(ra.radian, dec.radian, s=0.5)\n",
    "    ax.set_xticklabels(\n",
    "        [\"14h\", \"16h\", \"18h\", \"20h\", \"22h\", \"0h\", \"2h\", \"4h\", \"6h\", \"8h\", \"10h\"]\n",
    "    )\n",
    "    ax.grid(True)\n",
    "    fig.show()\n",
    "\n",
    "\n",
    "def colored_projection_dict(directory: str):\n",
    "    fig = plt.figure(figsize=(8, 6))\n",
    "    ax = fig.add_subplot(111, projection=\"mollweide\")\n",
    "    tables = separated_stack_tables_dict(directory)\n",
    "    for project in tables:\n",
    "        ra = coord.Angle(tables[project][\"RAJ2000\"])\n",
    "        ra = ra.wrap_at(180 * u.degree)\n",
    "        dec = coord.Angle(tables[project][\"DECJ2000\"])\n",
    "        ax.scatter(ra.radian, dec.radian, s=0.5)\n",
    "    ax.set_xticklabels(\n",
    "        [\"14h\", \"16h\", \"18h\", \"20h\", \"22h\", \"0h\", \"2h\", \"4h\", \"6h\", \"8h\", \"10h\"]\n",
    "    )\n",
    "    ax.grid(True)\n",
    "    fig.show()\n",
    "\n",
    "\n",
    "def colored_projection_table(directory: str):\n",
    "    fig = plt.figure(figsize=(8, 6))\n",
    "    ax = fig.add_subplot(111, projection=\"mollweide\")\n",
    "    table, projects = separated_stack_tables_table(directory)\n",
    "    for project in projects:\n",
    "        sliced = table[table[\"Project\"] == project]\n",
    "        ra = coord.Angle(sliced[\"RAJ2000\"])\n",
    "        ra = ra.wrap_at(180 * u.degree)\n",
    "        dec = coord.Angle(sliced[\"DECJ2000\"])\n",
    "        ax.scatter(ra.radian, dec.radian, s=0.5)\n",
    "    ax.set_xticklabels(\n",
    "        [\"14h\", \"16h\", \"18h\", \"20h\", \"22h\", \"0h\", \"2h\", \"4h\", \"6h\", \"8h\", \"10h\"]\n",
    "    )\n",
    "    ax.grid(True)\n",
    "    fig.show()"
   ]
  },
  {
   "cell_type": "code",
   "execution_count": 5,
   "id": "7c516e50",
   "metadata": {},
   "outputs": [
    {
     "name": "stdout",
     "output_type": "stream",
     "text": [
      "The lowest and highest values of the RAJ2000 data are 285.52715702299395 and 285.64656404503813. The lowest and highest values of the DECJ2000 data are 4.620915221661653 and 4.852030973369271.\n"
     ]
    }
   ],
   "source": [
    "print_values(\n",
    "    \"/home/scratch/kwei/raw_data/AGBT13B_312_34/Antenna/2014_11_20_01:05:05.fits\"\n",
    ")"
   ]
  },
  {
   "cell_type": "code",
   "execution_count": 6,
   "id": "116cf378",
   "metadata": {},
   "outputs": [
    {
     "data": {
      "image/png": "[encoded data removed]",
      "text/plain": [
       "<Figure size 640x480 with 1 Axes>"
      ]
     },
     "metadata": {},
     "output_type": "display_data"
    }
   ],
   "source": [
    "plot_one_file('/home/scratch/kwei/raw_data/AGBT13B_312_34/Antenna/2014_11_20_01:05:05.fits')"
   ]
  },
  {
   "cell_type": "code",
   "execution_count": 7,
   "id": "aeddddf8",
   "metadata": {},
   "outputs": [
    {
     "data": {
      "image/png": "[encoded data removed]",
      "text/plain": [
       "<Figure size 640x480 with 1 Axes>"
      ]
     },
     "metadata": {},
     "output_type": "display_data"
    }
   ],
   "source": [
    "plot_all_files('/home/scratch/kwei/raw_data/AGBT13B_312_34/Antenna/')"
   ]
  },
  {
   "cell_type": "code",
   "execution_count": null,
   "id": "b4945479",
   "metadata": {},
   "outputs": [],
   "source": [
    "projection(\"/home/scratch/kwei/raw_data/AGBT13B_312_34/Antenna/\")"
   ]
  },
  {
   "cell_type": "code",
   "execution_count": 8,
   "id": "716d60de",
   "metadata": {},
   "outputs": [
    {
     "name": "stderr",
     "output_type": "stream",
     "text": [
      "  0%|                                                              | 2/20780 [00:00<18:25, 18.80it/s]"
     ]
    },
    {
     "name": "stdout",
     "output_type": "stream",
     "text": [
      "Loading /home/scratch/tchamber/antenna_fits/AGBT13B_312_01/Antenna/2014_03_11_18:30:13.fits\n",
      "Loading /home/scratch/tchamber/antenna_fits/AGBT13B_312_01/Antenna/2014_03_11_09:31:34.fits\n",
      "Loading /home/scratch/tchamber/antenna_fits/AGBT13B_312_01/Antenna/2014_03_11_18:23:16.fits\n",
      "Loading /home/scratch/tchamber/antenna_fits/AGBT13B_312_01/Antenna/2014_03_11_09:32:16.fits\n",
      "Loading /home/scratch/tchamber/antenna_fits/AGBT13B_312_01/Antenna/2014_03_11_18:38:21.fits\n"
     ]
    },
    {
     "name": "stderr",
     "output_type": "stream",
     "text": [
      "  0%|                                                              | 8/20780 [00:00<17:37, 19.64it/s]"
     ]
    },
    {
     "name": "stdout",
     "output_type": "stream",
     "text": [
      "Loading /home/scratch/tchamber/antenna_fits/AGBT13B_312_01/Antenna/2014_03_11_09:35:21.fits\n",
      "Loading /home/scratch/tchamber/antenna_fits/AGBT13B_312_01/Antenna/2014_03_11_18:39:59.fits\n",
      "Loading /home/scratch/tchamber/antenna_fits/AGBT13B_312_01/Antenna/2014_03_11_09:36:03.fits\n",
      "Loading /home/scratch/tchamber/antenna_fits/AGBT13B_312_01/Antenna/2014_03_11_18:41:41.fits\n"
     ]
    },
    {
     "name": "stderr",
     "output_type": "stream",
     "text": [
      "  0%|                                                             | 13/20780 [00:00<17:01, 20.32it/s]"
     ]
    },
    {
     "name": "stdout",
     "output_type": "stream",
     "text": [
      "Loading /home/scratch/tchamber/antenna_fits/AGBT13B_312_01/Antenna/2014_03_11_09:36:49.fits\n",
      "Loading /home/scratch/tchamber/antenna_fits/AGBT13B_312_01/Antenna/2014_03_11_18:42:12.fits\n",
      "Loading /home/scratch/tchamber/antenna_fits/AGBT13B_312_01/Antenna/2014_03_11_09:44:57.fits\n",
      "Loading /home/scratch/tchamber/antenna_fits/AGBT13B_312_01/Antenna/2014_03_11_18:43:12.fits\n",
      "Loading /home/scratch/tchamber/antenna_fits/AGBT13B_312_01/Antenna/2014_03_11_09:45:37.fits\n"
     ]
    },
    {
     "name": "stderr",
     "output_type": "stream",
     "text": [
      "\r",
      "  0%|                                                             | 16/20780 [00:00<17:14, 20.07it/s]"
     ]
    },
    {
     "name": "stdout",
     "output_type": "stream",
     "text": [
      "Loading /home/scratch/tchamber/antenna_fits/AGBT13B_312_01/Antenna/2014_03_11_18:44:17.fits\n",
      "Loading /home/scratch/tchamber/antenna_fits/AGBT13B_312_01/Antenna/2014_03_11_09:46:19.fits\n",
      "Loading /home/scratch/tchamber/antenna_fits/AGBT13B_312_01/Antenna/2014_03_11_18:44:57.fits\n",
      "Loading /home/scratch/tchamber/antenna_fits/AGBT13B_312_01/Antenna/2014_03_11_09:46:59.fits\n",
      "Loading /home/scratch/tchamber/antenna_fits/AGBT13B_312_01/Antenna/2014_03_11_18:46:33.fits\n"
     ]
    },
    {
     "name": "stderr",
     "output_type": "stream",
     "text": [
      "  0%|                                                             | 22/20780 [00:01<17:30, 19.76it/s]"
     ]
    },
    {
     "name": "stdout",
     "output_type": "stream",
     "text": [
      "Loading /home/scratch/tchamber/antenna_fits/AGBT13B_312_01/Antenna/2014_03_11_09:47:51.fits\n",
      "Loading /home/scratch/tchamber/antenna_fits/AGBT13B_312_01/Antenna/2014_03_11_18:47:15.fits\n",
      "Loading /home/scratch/tchamber/antenna_fits/AGBT13B_312_01/Antenna/2014_03_11_09:51:52.fits\n",
      "Loading /home/scratch/tchamber/antenna_fits/AGBT13B_312_01/Antenna/2014_03_11_18:50:16.fits\n"
     ]
    },
    {
     "name": "stderr",
     "output_type": "stream",
     "text": [
      "\r",
      "  0%|                                                             | 25/20780 [00:01<17:13, 20.07it/s]"
     ]
    },
    {
     "name": "stdout",
     "output_type": "stream",
     "text": [
      "Loading /home/scratch/tchamber/antenna_fits/AGBT13B_312_01/Antenna/2014_03_11_10:00:00.fits\n",
      "Loading /home/scratch/tchamber/antenna_fits/AGBT13B_312_01/Antenna/2014_03_11_18:52:47.fits\n",
      "Loading /home/scratch/tchamber/antenna_fits/AGBT13B_312_01/Antenna/2014_03_11_10:00:48.fits\n",
      "Loading /home/scratch/tchamber/antenna_fits/AGBT13B_312_01/Antenna/2014_03_11_19:00:58.fits\n",
      "Loading /home/scratch/tchamber/antenna_fits/AGBT13B_312_01/Antenna/2014_03_11_10:17:04.fits\n"
     ]
    },
    {
     "name": "stderr",
     "output_type": "stream",
     "text": [
      "  0%|                                                             | 31/20780 [00:01<17:08, 20.17it/s]"
     ]
    },
    {
     "name": "stdout",
     "output_type": "stream",
     "text": [
      "Loading /home/scratch/tchamber/antenna_fits/AGBT13B_312_01/Antenna/2014_03_11_19:12:01.fits\n",
      "Loading /home/scratch/tchamber/antenna_fits/AGBT13B_312_01/Antenna/2014_03_11_10:19:56.fits\n",
      "Loading /home/scratch/tchamber/antenna_fits/AGBT13B_312_01/Antenna/2014_03_11_19:25:45.fits\n",
      "Loading /home/scratch/tchamber/antenna_fits/AGBT13B_312_01/Antenna/2014_03_11_10:32:20.fits\n",
      "Loading /home/scratch/tchamber/antenna_fits/AGBT13B_312_01/Antenna/2014_03_11_19:29:09.fits\n"
     ]
    },
    {
     "name": "stderr",
     "output_type": "stream",
     "text": [
      "  0%|                                                             | 37/20780 [00:01<17:11, 20.11it/s]"
     ]
    },
    {
     "name": "stdout",
     "output_type": "stream",
     "text": [
      "Loading /home/scratch/tchamber/antenna_fits/AGBT13B_312_01/Antenna/2014_03_11_10:37:38.fits\n",
      "Loading /home/scratch/tchamber/antenna_fits/AGBT13B_312_01/Antenna/2014_03_11_19:34:24.fits\n",
      "Loading /home/scratch/tchamber/antenna_fits/AGBT13B_312_01/Antenna/2014_03_11_11:27:37.fits\n",
      "Loading /home/scratch/tchamber/antenna_fits/AGBT13B_312_01/Antenna/2014_03_11_19:43:41.fits\n",
      "Loading /home/scratch/tchamber/antenna_fits/AGBT13B_312_01/Antenna/2014_03_11_11:28:17.fits\n"
     ]
    },
    {
     "name": "stderr",
     "output_type": "stream",
     "text": [
      "\r",
      "  0%|                                                             | 40/20780 [00:01<17:03, 20.27it/s]"
     ]
    },
    {
     "name": "stdout",
     "output_type": "stream",
     "text": [
      "Loading /home/scratch/tchamber/antenna_fits/AGBT13B_312_01/Antenna/2014_03_11_19:48:36.fits\n",
      "Loading /home/scratch/tchamber/antenna_fits/AGBT13B_312_01/Antenna/2014_03_11_11:29:02.fits\n",
      "Loading /home/scratch/tchamber/antenna_fits/AGBT13B_312_01/Antenna/2014_03_11_19:48:49.fits\n",
      "Loading /home/scratch/tchamber/antenna_fits/AGBT13B_312_01/Antenna/2014_03_11_11:29:42.fits\n",
      "Loading /home/scratch/tchamber/antenna_fits/AGBT13B_312_01/Antenna/2014_03_11_19:55:04.fits\n"
     ]
    },
    {
     "name": "stderr",
     "output_type": "stream",
     "text": [
      "  0%|▏                                                            | 46/20780 [00:02<17:05, 20.21it/s]"
     ]
    },
    {
     "name": "stdout",
     "output_type": "stream",
     "text": [
      "Loading /home/scratch/tchamber/antenna_fits/AGBT13B_312_01/Antenna/2014_03_11_11:30:33.fits\n",
      "Loading /home/scratch/tchamber/antenna_fits/AGBT13B_312_01/Antenna/2014_03_11_20:02:21.fits\n",
      "Loading /home/scratch/tchamber/antenna_fits/AGBT13B_312_01/Antenna/2014_03_11_11:32:56.fits\n",
      "Loading /home/scratch/tchamber/antenna_fits/AGBT13B_312_01/Antenna/2014_03_11_20:08:48.fits\n",
      "Loading /home/scratch/tchamber/antenna_fits/AGBT13B_312_01/Antenna/2014_03_11_11:38:16.fits\n"
     ]
    },
    {
     "name": "stderr",
     "output_type": "stream",
     "text": [
      "  0%|▏                                                            | 52/20780 [00:02<16:46, 20.59it/s]"
     ]
    },
    {
     "name": "stdout",
     "output_type": "stream",
     "text": [
      "Loading /home/scratch/tchamber/antenna_fits/AGBT13B_312_01/Antenna/2014_03_11_11:51:34.fits\n",
      "Loading /home/scratch/tchamber/antenna_fits/AGBT13B_312_01/Antenna/2014_03_11_11:53:53.fits\n",
      "Loading /home/scratch/tchamber/antenna_fits/AGBT13B_312_01/Antenna/2014_03_11_11:58:40.fits\n",
      "Loading /home/scratch/tchamber/antenna_fits/AGBT13B_312_01/Antenna/2014_03_11_12:02:50.fits\n",
      "Loading /home/scratch/tchamber/antenna_fits/AGBT13B_312_01/Antenna/2014_03_11_12:03:30.fits\n"
     ]
    },
    {
     "name": "stderr",
     "output_type": "stream",
     "text": [
      "\r",
      "  0%|▏                                                            | 55/20780 [00:02<16:57, 20.37it/s]"
     ]
    },
    {
     "name": "stdout",
     "output_type": "stream",
     "text": [
      "Loading /home/scratch/tchamber/antenna_fits/AGBT13B_312_01/Antenna/2014_03_11_12:14:58.fits\n",
      "Loading /home/scratch/tchamber/antenna_fits/AGBT13B_312_01/Antenna/2014_03_11_17:06:36.fits\n",
      "Loading /home/scratch/tchamber/antenna_fits/AGBT13B_312_01/Antenna/2014_03_11_17:11:16.fits\n",
      "Loading /home/scratch/tchamber/antenna_fits/AGBT13B_312_01/Antenna/2014_03_11_17:26:10.fits\n",
      "Loading /home/scratch/tchamber/antenna_fits/AGBT13B_312_01/Antenna/2014_03_11_17:28:14.fits\n"
     ]
    },
    {
     "name": "stderr",
     "output_type": "stream",
     "text": [
      "  0%|▏                                                            | 61/20780 [00:03<16:40, 20.71it/s]"
     ]
    },
    {
     "name": "stdout",
     "output_type": "stream",
     "text": [
      "Loading /home/scratch/tchamber/antenna_fits/AGBT13B_312_01/Antenna/2014_03_11_17:29:35.fits\n",
      "Loading /home/scratch/tchamber/antenna_fits/AGBT13B_312_01/Antenna/2014_03_11_17:31:29.fits\n",
      "Loading /home/scratch/tchamber/antenna_fits/AGBT13B_312_01/Antenna/2014_03_11_17:32:50.fits\n",
      "Loading /home/scratch/tchamber/antenna_fits/AGBT13B_312_01/Antenna/2014_03_11_17:37:10.fits\n",
      "Loading /home/scratch/tchamber/antenna_fits/AGBT13B_312_01/Antenna/2014_03_11_17:45:02.fits\n"
     ]
    },
    {
     "name": "stderr",
     "output_type": "stream",
     "text": [
      "\r",
      "  0%|▏                                                            | 64/20780 [00:03<17:08, 20.15it/s]"
     ]
    },
    {
     "name": "stdout",
     "output_type": "stream",
     "text": [
      "Loading /home/scratch/tchamber/antenna_fits/AGBT13B_312_01/Antenna/2014_03_11_17:54:55.fits\n",
      "Loading /home/scratch/tchamber/antenna_fits/AGBT13B_312_01/Antenna/2014_03_11_18:14:14.fits\n",
      "Loading /home/scratch/tchamber/antenna_fits/AGBT13B_312_01/Antenna/2014_03_11_18:40:08.fits\n",
      "Loading /home/scratch/tchamber/antenna_fits/AGBT13B_312_01/Antenna/2014_03_11_18:40:42.fits\n"
     ]
    },
    {
     "name": "stderr",
     "output_type": "stream",
     "text": [
      "  0%|▏                                                            | 70/20780 [00:03<17:06, 20.17it/s]"
     ]
    },
    {
     "name": "stdout",
     "output_type": "stream",
     "text": [
      "Loading /home/scratch/tchamber/antenna_fits/AGBT13B_312_01/Antenna/2014_03_11_18:41:07.fits\n",
      "Loading /home/scratch/tchamber/antenna_fits/AGBT13B_312_01/Antenna/2014_03_11_18:41:21.fits\n",
      "Loading /home/scratch/tchamber/antenna_fits/AGBT13B_312_02/Antenna/2014_03_16_10:31:53.fits\n",
      "Loading /home/scratch/tchamber/antenna_fits/AGBT13B_312_02/Antenna/2014_03_16_08:21:20.fits\n",
      "Loading /home/scratch/tchamber/antenna_fits/AGBT13B_312_02/Antenna/2014_03_16_10:28:25.fits\n"
     ]
    },
    {
     "name": "stderr",
     "output_type": "stream",
     "text": [
      "\r",
      "  0%|▏                                                            | 73/20780 [00:03<17:07, 20.15it/s]"
     ]
    },
    {
     "name": "stdout",
     "output_type": "stream",
     "text": [
      "Loading /home/scratch/tchamber/antenna_fits/AGBT13B_312_02/Antenna/2014_03_16_08:22:00.fits\n",
      "Loading /home/scratch/tchamber/antenna_fits/AGBT13B_312_02/Antenna/2014_03_16_10:35:20.fits\n",
      "Loading /home/scratch/tchamber/antenna_fits/AGBT13B_312_02/Antenna/2014_03_16_08:22:42.fits\n",
      "Loading /home/scratch/tchamber/antenna_fits/AGBT13B_312_02/Antenna/2014_03_16_10:38:48.fits\n"
     ]
    },
    {
     "name": "stderr",
     "output_type": "stream",
     "text": [
      "  0%|▏                                                            | 79/20780 [00:03<17:15, 19.99it/s]"
     ]
    },
    {
     "name": "stdout",
     "output_type": "stream",
     "text": [
      "Loading /home/scratch/tchamber/antenna_fits/AGBT13B_312_02/Antenna/2014_03_16_08:23:23.fits\n",
      "Loading /home/scratch/tchamber/antenna_fits/AGBT13B_312_02/Antenna/2014_03_16_10:56:02.fits\n",
      "Loading /home/scratch/tchamber/antenna_fits/AGBT13B_312_02/Antenna/2014_03_16_08:24:13.fits\n",
      "Loading /home/scratch/tchamber/antenna_fits/AGBT13B_312_02/Antenna/2014_03_16_10:59:29.fits\n",
      "Loading /home/scratch/tchamber/antenna_fits/AGBT13B_312_02/Antenna/2014_03_16_08:27:22.fits\n"
     ]
    },
    {
     "name": "stderr",
     "output_type": "stream",
     "text": [
      "  0%|▏                                                            | 85/20780 [00:04<17:11, 20.07it/s]"
     ]
    },
    {
     "name": "stdout",
     "output_type": "stream",
     "text": [
      "Loading /home/scratch/tchamber/antenna_fits/AGBT13B_312_02/Antenna/2014_03_16_11:02:56.fits\n",
      "Loading /home/scratch/tchamber/antenna_fits/AGBT13B_312_02/Antenna/2014_03_16_08:28:54.fits\n",
      "Loading /home/scratch/tchamber/antenna_fits/AGBT13B_312_02/Antenna/2014_03_16_11:06:23.fits\n",
      "Loading /home/scratch/tchamber/antenna_fits/AGBT13B_312_02/Antenna/2014_03_16_08:29:44.fits\n",
      "Loading /home/scratch/tchamber/antenna_fits/AGBT13B_312_02/Antenna/2014_03_16_11:09:50.fits\n"
     ]
    },
    {
     "name": "stderr",
     "output_type": "stream",
     "text": [
      "\r",
      "  0%|▎                                                            | 88/20780 [00:04<17:27, 19.75it/s]"
     ]
    },
    {
     "name": "stdout",
     "output_type": "stream",
     "text": [
      "Loading /home/scratch/tchamber/antenna_fits/AGBT13B_312_02/Antenna/2014_03_16_08:34:33.fits\n",
      "Loading /home/scratch/tchamber/antenna_fits/AGBT13B_312_02/Antenna/2014_03_16_11:13:17.fits\n",
      "Loading /home/scratch/tchamber/antenna_fits/AGBT13B_312_02/Antenna/2014_03_16_08:35:23.fits\n",
      "Loading /home/scratch/tchamber/antenna_fits/AGBT13B_312_02/Antenna/2014_03_16_11:16:45.fits\n"
     ]
    },
    {
     "name": "stderr",
     "output_type": "stream",
     "text": [
      "  0%|▎                                                            | 93/20780 [00:04<17:32, 19.66it/s]"
     ]
    },
    {
     "name": "stdout",
     "output_type": "stream",
     "text": [
      "Loading /home/scratch/tchamber/antenna_fits/AGBT13B_312_02/Antenna/2014_03_16_08:40:26.fits\n",
      "Loading /home/scratch/tchamber/antenna_fits/AGBT13B_312_02/Antenna/2014_03_16_11:20:12.fits\n",
      "Loading /home/scratch/tchamber/antenna_fits/AGBT13B_312_02/Antenna/2014_03_16_08:45:30.fits\n",
      "Loading /home/scratch/tchamber/antenna_fits/AGBT13B_312_02/Antenna/2014_03_16_11:23:47.fits\n",
      "Loading /home/scratch/tchamber/antenna_fits/AGBT13B_312_02/Antenna/2014_03_16_08:50:34.fits\n"
     ]
    },
    {
     "name": "stderr",
     "output_type": "stream",
     "text": [
      "  0%|▎                                                            | 97/20780 [00:04<17:47, 19.37it/s]"
     ]
    },
    {
     "name": "stdout",
     "output_type": "stream",
     "text": [
      "Loading /home/scratch/tchamber/antenna_fits/AGBT13B_312_02/Antenna/2014_03_16_11:25:17.fits\n",
      "Loading /home/scratch/tchamber/antenna_fits/AGBT13B_312_02/Antenna/2014_03_16_08:55:38.fits\n",
      "Loading /home/scratch/tchamber/antenna_fits/AGBT13B_312_02/Antenna/2014_03_16_11:25:57.fits\n",
      "Loading /home/scratch/tchamber/antenna_fits/AGBT13B_312_02/Antenna/2014_03_16_09:00:41.fits\n"
     ]
    },
    {
     "name": "stderr",
     "output_type": "stream",
     "text": [
      "  0%|▎                                                           | 102/20780 [00:05<17:25, 19.78it/s]"
     ]
    },
    {
     "name": "stdout",
     "output_type": "stream",
     "text": [
      "Loading /home/scratch/tchamber/antenna_fits/AGBT13B_312_02/Antenna/2014_03_16_11:26:39.fits\n",
      "Loading /home/scratch/tchamber/antenna_fits/AGBT13B_312_02/Antenna/2014_03_16_09:05:44.fits\n",
      "Loading /home/scratch/tchamber/antenna_fits/AGBT13B_312_02/Antenna/2014_03_16_11:27:19.fits\n",
      "Loading /home/scratch/tchamber/antenna_fits/AGBT13B_312_02/Antenna/2014_03_16_09:10:48.fits\n",
      "Loading /home/scratch/tchamber/antenna_fits/AGBT13B_312_02/Antenna/2014_03_16_11:28:10.fits\n"
     ]
    },
    {
     "name": "stderr",
     "output_type": "stream",
     "text": [
      "  1%|▎                                                           | 107/20780 [00:05<17:23, 19.82it/s]"
     ]
    },
    {
     "name": "stdout",
     "output_type": "stream",
     "text": [
      "Loading /home/scratch/tchamber/antenna_fits/AGBT13B_312_02/Antenna/2014_03_16_09:15:52.fits\n",
      "Loading /home/scratch/tchamber/antenna_fits/AGBT13B_312_02/Antenna/2014_03_16_11:30:22.fits\n",
      "Loading /home/scratch/tchamber/antenna_fits/AGBT13B_312_02/Antenna/2014_03_16_09:20:56.fits\n",
      "Loading /home/scratch/tchamber/antenna_fits/AGBT13B_312_02/Antenna/2014_03_16_11:31:10.fits\n",
      "Loading /home/scratch/tchamber/antenna_fits/AGBT13B_312_02/Antenna/2014_03_16_09:26:00.fits\n"
     ]
    },
    {
     "name": "stderr",
     "output_type": "stream",
     "text": [
      "  1%|▎                                                           | 113/20780 [00:05<16:46, 20.53it/s]"
     ]
    },
    {
     "name": "stdout",
     "output_type": "stream",
     "text": [
      "Loading /home/scratch/tchamber/antenna_fits/AGBT13B_312_02/Antenna/2014_03_16_11:32:20.fits\n",
      "Loading /home/scratch/tchamber/antenna_fits/AGBT13B_312_02/Antenna/2014_03_16_09:31:03.fits\n",
      "Loading /home/scratch/tchamber/antenna_fits/AGBT13B_312_02/Antenna/2014_03_16_11:33:10.fits\n",
      "Loading /home/scratch/tchamber/antenna_fits/AGBT13B_312_02/Antenna/2014_03_16_09:36:06.fits\n",
      "Loading /home/scratch/tchamber/antenna_fits/AGBT13B_312_02/Antenna/2014_03_16_11:41:21.fits\n"
     ]
    },
    {
     "name": "stderr",
     "output_type": "stream",
     "text": [
      "\r",
      "  1%|▎                                                           | 116/20780 [00:05<17:31, 19.64it/s]"
     ]
    },
    {
     "name": "stdout",
     "output_type": "stream",
     "text": [
      "Loading /home/scratch/tchamber/antenna_fits/AGBT13B_312_02/Antenna/2014_03_16_09:41:09.fits\n",
      "Loading /home/scratch/tchamber/antenna_fits/AGBT13B_312_02/Antenna/2014_03_16_11:49:31.fits\n",
      "Loading /home/scratch/tchamber/antenna_fits/AGBT13B_312_02/Antenna/2014_03_16_09:46:14.fits\n",
      "Loading /home/scratch/tchamber/antenna_fits/AGBT13B_312_02/Antenna/2014_03_16_11:57:41.fits\n"
     ]
    },
    {
     "name": "stderr",
     "output_type": "stream",
     "text": [
      "  1%|▎                                                           | 120/20780 [00:06<18:54, 18.21it/s]"
     ]
    },
    {
     "name": "stdout",
     "output_type": "stream",
     "text": [
      "Loading /home/scratch/tchamber/antenna_fits/AGBT13B_312_02/Antenna/2014_03_16_09:51:19.fits\n",
      "Loading /home/scratch/tchamber/antenna_fits/AGBT13B_312_02/Antenna/2014_03_16_12:05:52.fits\n",
      "Loading /home/scratch/tchamber/antenna_fits/AGBT13B_312_02/Antenna/2014_03_16_09:56:32.fits\n",
      "Loading /home/scratch/tchamber/antenna_fits/AGBT13B_312_02/Antenna/2014_03_16_12:14:03.fits\n"
     ]
    },
    {
     "name": "stderr",
     "output_type": "stream",
     "text": [
      "  1%|▎                                                           | 124/20780 [00:06<18:51, 18.25it/s]"
     ]
    },
    {
     "name": "stdout",
     "output_type": "stream",
     "text": [
      "Loading /home/scratch/tchamber/antenna_fits/AGBT13B_312_02/Antenna/2014_03_16_09:59:07.fits\n",
      "Loading /home/scratch/tchamber/antenna_fits/AGBT13B_312_02/Antenna/2014_03_16_12:22:14.fits\n",
      "Loading /home/scratch/tchamber/antenna_fits/AGBT13B_312_02/Antenna/2014_03_16_09:59:47.fits\n",
      "Loading /home/scratch/tchamber/antenna_fits/AGBT13B_312_02/Antenna/2014_03_16_12:30:25.fits\n"
     ]
    },
    {
     "name": "stderr",
     "output_type": "stream",
     "text": [
      "  1%|▎                                                           | 129/20780 [00:06<17:56, 19.19it/s]"
     ]
    },
    {
     "name": "stdout",
     "output_type": "stream",
     "text": [
      "Loading /home/scratch/tchamber/antenna_fits/AGBT13B_312_02/Antenna/2014_03_16_10:00:29.fits\n",
      "Loading /home/scratch/tchamber/antenna_fits/AGBT13B_312_02/Antenna/2014_03_16_12:38:44.fits\n",
      "Loading /home/scratch/tchamber/antenna_fits/AGBT13B_312_02/Antenna/2014_03_16_10:01:10.fits\n",
      "Loading /home/scratch/tchamber/antenna_fits/AGBT13B_312_02/Antenna/2014_03_16_12:40:23.fits\n",
      "Loading /home/scratch/tchamber/antenna_fits/AGBT13B_312_02/Antenna/2014_03_16_10:02:01.fits\n"
     ]
    },
    {
     "name": "stderr",
     "output_type": "stream",
     "text": [
      "  1%|▍                                                           | 133/20780 [00:06<17:27, 19.71it/s]"
     ]
    },
    {
     "name": "stdout",
     "output_type": "stream",
     "text": [
      "Loading /home/scratch/tchamber/antenna_fits/AGBT13B_312_02/Antenna/2014_03_16_12:41:05.fits\n",
      "Loading /home/scratch/tchamber/antenna_fits/AGBT13B_312_02/Antenna/2014_03_16_10:05:00.fits\n",
      "Loading /home/scratch/tchamber/antenna_fits/AGBT13B_312_02/Antenna/2014_03_16_12:41:48.fits\n"
     ]
    },
    {
     "name": "stderr",
     "output_type": "stream",
     "text": [
      "\n"
     ]
    },
    {
     "ename": "KeyboardInterrupt",
     "evalue": "",
     "output_type": "error",
     "traceback": [
      "\u001b[0;31m---------------------------------------------------------------------------\u001b[0m",
      "\u001b[0;31mKeyboardInterrupt\u001b[0m                         Traceback (most recent call last)",
      "\u001b[0;32m/tmp/ipykernel_26561/1467933419.py\u001b[0m in \u001b[0;36m<module>\u001b[0;34m\u001b[0m\n\u001b[0;32m----> 1\u001b[0;31m \u001b[0mexpanded_projection\u001b[0m\u001b[0;34m(\u001b[0m\u001b[0;34m\"/home/scratch/tchamber/antenna_fits/\"\u001b[0m\u001b[0;34m)\u001b[0m\u001b[0;34m\u001b[0m\u001b[0;34m\u001b[0m\u001b[0m\n\u001b[0m",
      "\u001b[0;32m/tmp/ipykernel_26561/3706489581.py\u001b[0m in \u001b[0;36mexpanded_projection\u001b[0;34m(directory)\u001b[0m\n\u001b[1;32m    120\u001b[0m \u001b[0;32mdef\u001b[0m \u001b[0mexpanded_projection\u001b[0m\u001b[0;34m(\u001b[0m\u001b[0mdirectory\u001b[0m\u001b[0;34m:\u001b[0m \u001b[0mstr\u001b[0m\u001b[0;34m)\u001b[0m\u001b[0;34m:\u001b[0m\u001b[0;34m\u001b[0m\u001b[0;34m\u001b[0m\u001b[0m\n\u001b[1;32m    121\u001b[0m     \u001b[0;34m\"\"\"Plots a Mollweide projection for stacked data in a directory\"\"\"\u001b[0m\u001b[0;34m\u001b[0m\u001b[0;34m\u001b[0m\u001b[0m\n\u001b[0;32m--> 122\u001b[0;31m     \u001b[0mtable\u001b[0m \u001b[0;34m=\u001b[0m \u001b[0mexpanded_stack_tables\u001b[0m\u001b[0;34m(\u001b[0m\u001b[0mdirectory\u001b[0m\u001b[0;34m)\u001b[0m\u001b[0;34m\u001b[0m\u001b[0;34m\u001b[0m\u001b[0m\n\u001b[0m\u001b[1;32m    123\u001b[0m     \u001b[0mra\u001b[0m \u001b[0;34m=\u001b[0m \u001b[0mcoord\u001b[0m\u001b[0;34m.\u001b[0m\u001b[0mAngle\u001b[0m\u001b[0;34m(\u001b[0m\u001b[0mtable\u001b[0m\u001b[0;34m[\u001b[0m\u001b[0;34m\"RAJ2000\"\u001b[0m\u001b[0;34m]\u001b[0m\u001b[0;34m)\u001b[0m\u001b[0;34m\u001b[0m\u001b[0;34m\u001b[0m\u001b[0m\n\u001b[1;32m    124\u001b[0m     \u001b[0mra\u001b[0m \u001b[0;34m=\u001b[0m \u001b[0mra\u001b[0m\u001b[0;34m.\u001b[0m\u001b[0mwrap_at\u001b[0m\u001b[0;34m(\u001b[0m\u001b[0;36m180\u001b[0m \u001b[0;34m*\u001b[0m \u001b[0mu\u001b[0m\u001b[0;34m.\u001b[0m\u001b[0mdegree\u001b[0m\u001b[0;34m)\u001b[0m\u001b[0;34m\u001b[0m\u001b[0;34m\u001b[0m\u001b[0m\n",
      "\u001b[0;32m/tmp/ipykernel_26561/3706489581.py\u001b[0m in \u001b[0;36mexpanded_stack_tables\u001b[0;34m(rootdir)\u001b[0m\n\u001b[1;32m     42\u001b[0m     \u001b[0;32mfor\u001b[0m \u001b[0mpath\u001b[0m \u001b[0;32min\u001b[0m \u001b[0mtqdm\u001b[0m\u001b[0;34m(\u001b[0m\u001b[0mpaths\u001b[0m\u001b[0;34m)\u001b[0m\u001b[0;34m:\u001b[0m\u001b[0;34m\u001b[0m\u001b[0;34m\u001b[0m\u001b[0m\n\u001b[1;32m     43\u001b[0m         \u001b[0mprint\u001b[0m\u001b[0;34m(\u001b[0m\u001b[0;34mf\"Loading {path}\"\u001b[0m\u001b[0;34m)\u001b[0m\u001b[0;34m\u001b[0m\u001b[0;34m\u001b[0m\u001b[0m\n\u001b[0;32m---> 44\u001b[0;31m         \u001b[0mtable\u001b[0m \u001b[0;34m=\u001b[0m \u001b[0mget_raj_decj_data\u001b[0m\u001b[0;34m(\u001b[0m\u001b[0mpath\u001b[0m\u001b[0;34m)\u001b[0m\u001b[0;34m\u001b[0m\u001b[0;34m\u001b[0m\u001b[0m\n\u001b[0m\u001b[1;32m     45\u001b[0m         \u001b[0mstacked_tables\u001b[0m\u001b[0;34m.\u001b[0m\u001b[0mappend\u001b[0m\u001b[0;34m(\u001b[0m\u001b[0mtable\u001b[0m\u001b[0;34m)\u001b[0m\u001b[0;34m\u001b[0m\u001b[0;34m\u001b[0m\u001b[0m\n\u001b[1;32m     46\u001b[0m     \u001b[0;32mreturn\u001b[0m \u001b[0mvstack\u001b[0m\u001b[0;34m(\u001b[0m\u001b[0mstacked_tables\u001b[0m\u001b[0;34m)\u001b[0m\u001b[0;34m\u001b[0m\u001b[0;34m\u001b[0m\u001b[0m\n",
      "\u001b[0;32m/tmp/ipykernel_26561/3706489581.py\u001b[0m in \u001b[0;36mget_raj_decj_data\u001b[0;34m(filepath)\u001b[0m\n\u001b[1;32m      1\u001b[0m \u001b[0;32mdef\u001b[0m \u001b[0mget_raj_decj_data\u001b[0m\u001b[0;34m(\u001b[0m\u001b[0mfilepath\u001b[0m\u001b[0;34m:\u001b[0m \u001b[0mstr\u001b[0m\u001b[0;34m)\u001b[0m\u001b[0;34m:\u001b[0m\u001b[0;34m\u001b[0m\u001b[0;34m\u001b[0m\u001b[0m\n\u001b[1;32m      2\u001b[0m     \u001b[0;34m\"\"\"Returns the RA and DEC data from a given FITS file\"\"\"\u001b[0m\u001b[0;34m\u001b[0m\u001b[0;34m\u001b[0m\u001b[0m\n\u001b[0;32m----> 3\u001b[0;31m     \u001b[0mtable\u001b[0m \u001b[0;34m=\u001b[0m \u001b[0mTable\u001b[0m\u001b[0;34m.\u001b[0m\u001b[0mread\u001b[0m\u001b[0;34m(\u001b[0m\u001b[0mfilepath\u001b[0m\u001b[0;34m,\u001b[0m \u001b[0mhdu\u001b[0m\u001b[0;34m=\u001b[0m\u001b[0;36m2\u001b[0m\u001b[0;34m)\u001b[0m\u001b[0;34m\u001b[0m\u001b[0;34m\u001b[0m\u001b[0m\n\u001b[0m\u001b[1;32m      4\u001b[0m     \u001b[0;32mreturn\u001b[0m \u001b[0mhstack\u001b[0m\u001b[0;34m(\u001b[0m\u001b[0;34m[\u001b[0m\u001b[0mtable\u001b[0m\u001b[0;34m[\u001b[0m\u001b[0;34m\"RAJ2000\"\u001b[0m\u001b[0;34m]\u001b[0m\u001b[0;34m,\u001b[0m \u001b[0mtable\u001b[0m\u001b[0;34m[\u001b[0m\u001b[0;34m\"DECJ2000\"\u001b[0m\u001b[0;34m]\u001b[0m\u001b[0;34m]\u001b[0m\u001b[0;34m)\u001b[0m\u001b[0;34m\u001b[0m\u001b[0;34m\u001b[0m\u001b[0m\n\u001b[1;32m      5\u001b[0m \u001b[0;34m\u001b[0m\u001b[0m\n",
      "\u001b[0;32m/opt/local/stow/anaconda3/lib/python3.7/site-packages/astropy/table/connect.py\u001b[0m in \u001b[0;36m__call__\u001b[0;34m(self, *args, **kwargs)\u001b[0m\n\u001b[1;32m     59\u001b[0m         \u001b[0mdescriptions\u001b[0m \u001b[0;34m=\u001b[0m \u001b[0mkwargs\u001b[0m\u001b[0;34m.\u001b[0m\u001b[0mpop\u001b[0m\u001b[0;34m(\u001b[0m\u001b[0;34m'descriptions'\u001b[0m\u001b[0;34m,\u001b[0m \u001b[0;32mNone\u001b[0m\u001b[0;34m)\u001b[0m\u001b[0;34m\u001b[0m\u001b[0;34m\u001b[0m\u001b[0m\n\u001b[1;32m     60\u001b[0m \u001b[0;34m\u001b[0m\u001b[0m\n\u001b[0;32m---> 61\u001b[0;31m         \u001b[0mout\u001b[0m \u001b[0;34m=\u001b[0m \u001b[0mregistry\u001b[0m\u001b[0;34m.\u001b[0m\u001b[0mread\u001b[0m\u001b[0;34m(\u001b[0m\u001b[0mcls\u001b[0m\u001b[0;34m,\u001b[0m \u001b[0;34m*\u001b[0m\u001b[0margs\u001b[0m\u001b[0;34m,\u001b[0m \u001b[0;34m**\u001b[0m\u001b[0mkwargs\u001b[0m\u001b[0;34m)\u001b[0m\u001b[0;34m\u001b[0m\u001b[0;34m\u001b[0m\u001b[0m\n\u001b[0m\u001b[1;32m     62\u001b[0m \u001b[0;34m\u001b[0m\u001b[0m\n\u001b[1;32m     63\u001b[0m         \u001b[0;31m# For some readers (e.g., ascii.ecsv), the returned `out` class is not\u001b[0m\u001b[0;34m\u001b[0m\u001b[0;34m\u001b[0m\u001b[0;34m\u001b[0m\u001b[0m\n",
      "\u001b[0;32m/opt/local/stow/anaconda3/lib/python3.7/site-packages/astropy/io/registry.py\u001b[0m in \u001b[0;36mread\u001b[0;34m(cls, format, cache, *args, **kwargs)\u001b[0m\n\u001b[1;32m    525\u001b[0m \u001b[0;34m\u001b[0m\u001b[0m\n\u001b[1;32m    526\u001b[0m         \u001b[0mreader\u001b[0m \u001b[0;34m=\u001b[0m \u001b[0mget_reader\u001b[0m\u001b[0;34m(\u001b[0m\u001b[0mformat\u001b[0m\u001b[0;34m,\u001b[0m \u001b[0mcls\u001b[0m\u001b[0;34m)\u001b[0m\u001b[0;34m\u001b[0m\u001b[0;34m\u001b[0m\u001b[0m\n\u001b[0;32m--> 527\u001b[0;31m         \u001b[0mdata\u001b[0m \u001b[0;34m=\u001b[0m \u001b[0mreader\u001b[0m\u001b[0;34m(\u001b[0m\u001b[0;34m*\u001b[0m\u001b[0margs\u001b[0m\u001b[0;34m,\u001b[0m \u001b[0;34m**\u001b[0m\u001b[0mkwargs\u001b[0m\u001b[0;34m)\u001b[0m\u001b[0;34m\u001b[0m\u001b[0;34m\u001b[0m\u001b[0m\n\u001b[0m\u001b[1;32m    528\u001b[0m \u001b[0;34m\u001b[0m\u001b[0m\n\u001b[1;32m    529\u001b[0m         \u001b[0;32mif\u001b[0m \u001b[0;32mnot\u001b[0m \u001b[0misinstance\u001b[0m\u001b[0;34m(\u001b[0m\u001b[0mdata\u001b[0m\u001b[0;34m,\u001b[0m \u001b[0mcls\u001b[0m\u001b[0;34m)\u001b[0m\u001b[0;34m:\u001b[0m\u001b[0;34m\u001b[0m\u001b[0;34m\u001b[0m\u001b[0m\n",
      "\u001b[0;32m/opt/local/stow/anaconda3/lib/python3.7/site-packages/astropy/io/fits/connect.py\u001b[0m in \u001b[0;36mread_table_fits\u001b[0;34m(input, hdu, astropy_native, memmap, character_as_bytes)\u001b[0m\n\u001b[1;32m    226\u001b[0m         \u001b[0;32mtry\u001b[0m\u001b[0;34m:\u001b[0m\u001b[0;34m\u001b[0m\u001b[0;34m\u001b[0m\u001b[0m\n\u001b[1;32m    227\u001b[0m             return read_table_fits(hdulist, hdu=hdu,\n\u001b[0;32m--> 228\u001b[0;31m                                    astropy_native=astropy_native)\n\u001b[0m\u001b[1;32m    229\u001b[0m         \u001b[0;32mfinally\u001b[0m\u001b[0;34m:\u001b[0m\u001b[0;34m\u001b[0m\u001b[0;34m\u001b[0m\u001b[0m\n\u001b[1;32m    230\u001b[0m             \u001b[0mhdulist\u001b[0m\u001b[0;34m.\u001b[0m\u001b[0mclose\u001b[0m\u001b[0;34m(\u001b[0m\u001b[0;34m)\u001b[0m\u001b[0;34m\u001b[0m\u001b[0;34m\u001b[0m\u001b[0m\n",
      "\u001b[0;32m/opt/local/stow/anaconda3/lib/python3.7/site-packages/astropy/io/fits/connect.py\u001b[0m in \u001b[0;36mread_table_fits\u001b[0;34m(input, hdu, astropy_native, memmap, character_as_bytes)\u001b[0m\n\u001b[1;32m    232\u001b[0m     \u001b[0;31m# In the loop below we access the data using data[col.name] rather than\u001b[0m\u001b[0;34m\u001b[0m\u001b[0;34m\u001b[0m\u001b[0;34m\u001b[0m\u001b[0m\n\u001b[1;32m    233\u001b[0m     \u001b[0;31m# col.array to make sure that the data is scaled correctly if needed.\u001b[0m\u001b[0;34m\u001b[0m\u001b[0;34m\u001b[0m\u001b[0;34m\u001b[0m\u001b[0m\n\u001b[0;32m--> 234\u001b[0;31m     \u001b[0mdata\u001b[0m \u001b[0;34m=\u001b[0m \u001b[0mtable\u001b[0m\u001b[0;34m.\u001b[0m\u001b[0mdata\u001b[0m\u001b[0;34m\u001b[0m\u001b[0;34m\u001b[0m\u001b[0m\n\u001b[0m\u001b[1;32m    235\u001b[0m \u001b[0;34m\u001b[0m\u001b[0m\n\u001b[1;32m    236\u001b[0m     \u001b[0mcolumns\u001b[0m \u001b[0;34m=\u001b[0m \u001b[0;34m[\u001b[0m\u001b[0;34m]\u001b[0m\u001b[0;34m\u001b[0m\u001b[0;34m\u001b[0m\u001b[0m\n",
      "\u001b[0;32m/opt/local/stow/anaconda3/lib/python3.7/site-packages/astropy/utils/decorators.py\u001b[0m in \u001b[0;36m__get__\u001b[0;34m(self, obj, owner)\u001b[0m\n\u001b[1;32m    765\u001b[0m                     \u001b[0mval\u001b[0m \u001b[0;34m=\u001b[0m \u001b[0mobj_dict\u001b[0m\u001b[0;34m.\u001b[0m\u001b[0mget\u001b[0m\u001b[0;34m(\u001b[0m\u001b[0mself\u001b[0m\u001b[0;34m.\u001b[0m\u001b[0m_key\u001b[0m\u001b[0;34m,\u001b[0m \u001b[0m_NotFound\u001b[0m\u001b[0;34m)\u001b[0m\u001b[0;34m\u001b[0m\u001b[0;34m\u001b[0m\u001b[0m\n\u001b[1;32m    766\u001b[0m                     \u001b[0;32mif\u001b[0m \u001b[0mval\u001b[0m \u001b[0;32mis\u001b[0m \u001b[0m_NotFound\u001b[0m\u001b[0;34m:\u001b[0m\u001b[0;34m\u001b[0m\u001b[0;34m\u001b[0m\u001b[0m\n\u001b[0;32m--> 767\u001b[0;31m                         \u001b[0mval\u001b[0m \u001b[0;34m=\u001b[0m \u001b[0mself\u001b[0m\u001b[0;34m.\u001b[0m\u001b[0mfget\u001b[0m\u001b[0;34m(\u001b[0m\u001b[0mobj\u001b[0m\u001b[0;34m)\u001b[0m\u001b[0;34m\u001b[0m\u001b[0;34m\u001b[0m\u001b[0m\n\u001b[0m\u001b[1;32m    768\u001b[0m                         \u001b[0mobj_dict\u001b[0m\u001b[0;34m[\u001b[0m\u001b[0mself\u001b[0m\u001b[0;34m.\u001b[0m\u001b[0m_key\u001b[0m\u001b[0;34m]\u001b[0m \u001b[0;34m=\u001b[0m \u001b[0mval\u001b[0m\u001b[0;34m\u001b[0m\u001b[0;34m\u001b[0m\u001b[0m\n\u001b[1;32m    769\u001b[0m             \u001b[0;32mreturn\u001b[0m \u001b[0mval\u001b[0m\u001b[0;34m\u001b[0m\u001b[0;34m\u001b[0m\u001b[0m\n",
      "\u001b[0;32m/opt/local/stow/anaconda3/lib/python3.7/site-packages/astropy/io/fits/hdu/table.py\u001b[0m in \u001b[0;36mdata\u001b[0;34m(self)\u001b[0m\n\u001b[1;32m    400\u001b[0m     \u001b[0;34m@\u001b[0m\u001b[0mlazyproperty\u001b[0m\u001b[0;34m\u001b[0m\u001b[0;34m\u001b[0m\u001b[0m\n\u001b[1;32m    401\u001b[0m     \u001b[0;32mdef\u001b[0m \u001b[0mdata\u001b[0m\u001b[0;34m(\u001b[0m\u001b[0mself\u001b[0m\u001b[0;34m)\u001b[0m\u001b[0;34m:\u001b[0m\u001b[0;34m\u001b[0m\u001b[0;34m\u001b[0m\u001b[0m\n\u001b[0;32m--> 402\u001b[0;31m         \u001b[0mdata\u001b[0m \u001b[0;34m=\u001b[0m \u001b[0mself\u001b[0m\u001b[0;34m.\u001b[0m\u001b[0m_get_tbdata\u001b[0m\u001b[0;34m(\u001b[0m\u001b[0;34m)\u001b[0m\u001b[0;34m\u001b[0m\u001b[0;34m\u001b[0m\u001b[0m\n\u001b[0m\u001b[1;32m    403\u001b[0m         \u001b[0mdata\u001b[0m\u001b[0;34m.\u001b[0m\u001b[0m_coldefs\u001b[0m \u001b[0;34m=\u001b[0m \u001b[0mself\u001b[0m\u001b[0;34m.\u001b[0m\u001b[0mcolumns\u001b[0m\u001b[0;34m\u001b[0m\u001b[0;34m\u001b[0m\u001b[0m\n\u001b[1;32m    404\u001b[0m         \u001b[0mdata\u001b[0m\u001b[0;34m.\u001b[0m\u001b[0m_character_as_bytes\u001b[0m \u001b[0;34m=\u001b[0m \u001b[0mself\u001b[0m\u001b[0;34m.\u001b[0m\u001b[0m_character_as_bytes\u001b[0m\u001b[0;34m\u001b[0m\u001b[0;34m\u001b[0m\u001b[0m\n",
      "\u001b[0;32m/opt/local/stow/anaconda3/lib/python3.7/site-packages/astropy/io/fits/hdu/table.py\u001b[0m in \u001b[0;36m_get_tbdata\u001b[0;34m(self)\u001b[0m\n\u001b[1;32m    181\u001b[0m \u001b[0;34m\u001b[0m\u001b[0m\n\u001b[1;32m    182\u001b[0m         \u001b[0mself\u001b[0m\u001b[0;34m.\u001b[0m\u001b[0m_init_tbdata\u001b[0m\u001b[0;34m(\u001b[0m\u001b[0mdata\u001b[0m\u001b[0;34m)\u001b[0m\u001b[0;34m\u001b[0m\u001b[0;34m\u001b[0m\u001b[0m\n\u001b[0;32m--> 183\u001b[0;31m         \u001b[0mdata\u001b[0m \u001b[0;34m=\u001b[0m \u001b[0mdata\u001b[0m\u001b[0;34m.\u001b[0m\u001b[0mview\u001b[0m\u001b[0;34m(\u001b[0m\u001b[0mself\u001b[0m\u001b[0;34m.\u001b[0m\u001b[0m_data_type\u001b[0m\u001b[0;34m)\u001b[0m\u001b[0;34m\u001b[0m\u001b[0;34m\u001b[0m\u001b[0m\n\u001b[0m\u001b[1;32m    184\u001b[0m         \u001b[0mcolumns\u001b[0m\u001b[0;34m.\u001b[0m\u001b[0m_add_listener\u001b[0m\u001b[0;34m(\u001b[0m\u001b[0mdata\u001b[0m\u001b[0;34m)\u001b[0m\u001b[0;34m\u001b[0m\u001b[0;34m\u001b[0m\u001b[0m\n\u001b[1;32m    185\u001b[0m         \u001b[0;32mreturn\u001b[0m \u001b[0mdata\u001b[0m\u001b[0;34m\u001b[0m\u001b[0;34m\u001b[0m\u001b[0m\n",
      "\u001b[0;32m/opt/local/stow/anaconda3/lib/python3.7/site-packages/astropy/io/fits/fitsrec.py\u001b[0m in \u001b[0;36m__array_finalize__\u001b[0;34m(self, obj)\u001b[0m\n\u001b[1;32m    243\u001b[0m             \u001b[0mself\u001b[0m\u001b[0;34m.\u001b[0m\u001b[0m_uint\u001b[0m \u001b[0;34m=\u001b[0m \u001b[0mgetattr\u001b[0m\u001b[0;34m(\u001b[0m\u001b[0mobj\u001b[0m\u001b[0;34m,\u001b[0m \u001b[0;34m'_uint'\u001b[0m\u001b[0;34m,\u001b[0m \u001b[0;32mFalse\u001b[0m\u001b[0;34m)\u001b[0m\u001b[0;34m\u001b[0m\u001b[0;34m\u001b[0m\u001b[0m\n\u001b[1;32m    244\u001b[0m             \u001b[0mself\u001b[0m\u001b[0;34m.\u001b[0m\u001b[0m_col_weakrefs\u001b[0m \u001b[0;34m=\u001b[0m \u001b[0mweakref\u001b[0m\u001b[0;34m.\u001b[0m\u001b[0mWeakSet\u001b[0m\u001b[0;34m(\u001b[0m\u001b[0;34m)\u001b[0m\u001b[0;34m\u001b[0m\u001b[0;34m\u001b[0m\u001b[0m\n\u001b[0;32m--> 245\u001b[0;31m             \u001b[0mself\u001b[0m\u001b[0;34m.\u001b[0m\u001b[0m_coldefs\u001b[0m \u001b[0;34m=\u001b[0m \u001b[0mColDefs\u001b[0m\u001b[0;34m(\u001b[0m\u001b[0mself\u001b[0m\u001b[0;34m)\u001b[0m\u001b[0;34m\u001b[0m\u001b[0;34m\u001b[0m\u001b[0m\n\u001b[0m\u001b[1;32m    246\u001b[0m \u001b[0;34m\u001b[0m\u001b[0m\n\u001b[1;32m    247\u001b[0m             \u001b[0;31m# Work around chicken-egg problem.  Column.array relies on the\u001b[0m\u001b[0;34m\u001b[0m\u001b[0;34m\u001b[0m\u001b[0;34m\u001b[0m\u001b[0m\n",
      "\u001b[0;32m/opt/local/stow/anaconda3/lib/python3.7/site-packages/astropy/io/fits/column.py\u001b[0m in \u001b[0;36m__init__\u001b[0;34m(self, input, ascii)\u001b[0m\n\u001b[1;32m   1401\u001b[0m         \u001b[0;32melif\u001b[0m \u001b[0misinstance\u001b[0m\u001b[0;34m(\u001b[0m\u001b[0minput\u001b[0m\u001b[0;34m,\u001b[0m \u001b[0mnp\u001b[0m\u001b[0;34m.\u001b[0m\u001b[0mndarray\u001b[0m\u001b[0;34m)\u001b[0m \u001b[0;32mand\u001b[0m \u001b[0minput\u001b[0m\u001b[0;34m.\u001b[0m\u001b[0mdtype\u001b[0m\u001b[0;34m.\u001b[0m\u001b[0mfields\u001b[0m \u001b[0;32mis\u001b[0m \u001b[0;32mnot\u001b[0m \u001b[0;32mNone\u001b[0m\u001b[0;34m:\u001b[0m\u001b[0;34m\u001b[0m\u001b[0;34m\u001b[0m\u001b[0m\n\u001b[1;32m   1402\u001b[0m             \u001b[0;31m# Construct columns from the fields of a record array\u001b[0m\u001b[0;34m\u001b[0m\u001b[0;34m\u001b[0m\u001b[0;34m\u001b[0m\u001b[0m\n\u001b[0;32m-> 1403\u001b[0;31m             \u001b[0mself\u001b[0m\u001b[0;34m.\u001b[0m\u001b[0m_init_from_array\u001b[0m\u001b[0;34m(\u001b[0m\u001b[0minput\u001b[0m\u001b[0;34m)\u001b[0m\u001b[0;34m\u001b[0m\u001b[0;34m\u001b[0m\u001b[0m\n\u001b[0m\u001b[1;32m   1404\u001b[0m         \u001b[0;32melif\u001b[0m \u001b[0misiterable\u001b[0m\u001b[0;34m(\u001b[0m\u001b[0minput\u001b[0m\u001b[0;34m)\u001b[0m\u001b[0;34m:\u001b[0m\u001b[0;34m\u001b[0m\u001b[0;34m\u001b[0m\u001b[0m\n\u001b[1;32m   1405\u001b[0m             \u001b[0;31m# if the input is a list of Columns\u001b[0m\u001b[0;34m\u001b[0m\u001b[0;34m\u001b[0m\u001b[0;34m\u001b[0m\u001b[0m\n",
      "\u001b[0;32m/opt/local/stow/anaconda3/lib/python3.7/site-packages/astropy/io/fits/column.py\u001b[0m in \u001b[0;36m_init_from_array\u001b[0;34m(self, array)\u001b[0m\n\u001b[1;32m   1461\u001b[0m             c = Column(name=cname, format=format,\n\u001b[1;32m   1462\u001b[0m                        \u001b[0marray\u001b[0m\u001b[0;34m=\u001b[0m\u001b[0marray\u001b[0m\u001b[0;34m.\u001b[0m\u001b[0mview\u001b[0m\u001b[0;34m(\u001b[0m\u001b[0mnp\u001b[0m\u001b[0;34m.\u001b[0m\u001b[0mndarray\u001b[0m\u001b[0;34m)\u001b[0m\u001b[0;34m[\u001b[0m\u001b[0mcname\u001b[0m\u001b[0;34m]\u001b[0m\u001b[0;34m,\u001b[0m \u001b[0mbzero\u001b[0m\u001b[0;34m=\u001b[0m\u001b[0mbzero\u001b[0m\u001b[0;34m,\u001b[0m\u001b[0;34m\u001b[0m\u001b[0;34m\u001b[0m\u001b[0m\n\u001b[0;32m-> 1463\u001b[0;31m                        dim=dim)\n\u001b[0m\u001b[1;32m   1464\u001b[0m             \u001b[0mself\u001b[0m\u001b[0;34m.\u001b[0m\u001b[0mcolumns\u001b[0m\u001b[0;34m.\u001b[0m\u001b[0mappend\u001b[0m\u001b[0;34m(\u001b[0m\u001b[0mc\u001b[0m\u001b[0;34m)\u001b[0m\u001b[0;34m\u001b[0m\u001b[0;34m\u001b[0m\u001b[0m\n\u001b[1;32m   1465\u001b[0m \u001b[0;34m\u001b[0m\u001b[0m\n",
      "\u001b[0;32m/opt/local/stow/anaconda3/lib/python3.7/site-packages/astropy/io/fits/column.py\u001b[0m in \u001b[0;36m__init__\u001b[0;34m(self, name, format, unit, null, bscale, bzero, disp, start, dim, array, ascii, coord_type, coord_unit, coord_ref_point, coord_ref_value, coord_inc, time_ref_pos)\u001b[0m\n\u001b[1;32m    622\u001b[0m \u001b[0;34m\u001b[0m\u001b[0m\n\u001b[1;32m    623\u001b[0m         \u001b[0;32mfor\u001b[0m \u001b[0mattr\u001b[0m \u001b[0;32min\u001b[0m \u001b[0mKEYWORD_ATTRIBUTES\u001b[0m\u001b[0;34m:\u001b[0m\u001b[0;34m\u001b[0m\u001b[0;34m\u001b[0m\u001b[0m\n\u001b[0;32m--> 624\u001b[0;31m             \u001b[0msetattr\u001b[0m\u001b[0;34m(\u001b[0m\u001b[0mself\u001b[0m\u001b[0;34m,\u001b[0m \u001b[0mattr\u001b[0m\u001b[0;34m,\u001b[0m \u001b[0mvalid_kwargs\u001b[0m\u001b[0;34m.\u001b[0m\u001b[0mget\u001b[0m\u001b[0;34m(\u001b[0m\u001b[0mattr\u001b[0m\u001b[0;34m)\u001b[0m\u001b[0;34m)\u001b[0m\u001b[0;34m\u001b[0m\u001b[0;34m\u001b[0m\u001b[0m\n\u001b[0m\u001b[1;32m    625\u001b[0m \u001b[0;34m\u001b[0m\u001b[0m\n\u001b[1;32m    626\u001b[0m         \u001b[0;31m# TODO: Try to eliminate the following two special cases\u001b[0m\u001b[0;34m\u001b[0m\u001b[0;34m\u001b[0m\u001b[0;34m\u001b[0m\u001b[0m\n",
      "\u001b[0;32m/opt/local/stow/anaconda3/lib/python3.7/site-packages/astropy/io/fits/column.py\u001b[0m in \u001b[0;36m__set__\u001b[0;34m(self, obj, value)\u001b[0m\n\u001b[1;32m    490\u001b[0m     \u001b[0;32mdef\u001b[0m \u001b[0m__set__\u001b[0m\u001b[0;34m(\u001b[0m\u001b[0mself\u001b[0m\u001b[0;34m,\u001b[0m \u001b[0mobj\u001b[0m\u001b[0;34m,\u001b[0m \u001b[0mvalue\u001b[0m\u001b[0;34m)\u001b[0m\u001b[0;34m:\u001b[0m\u001b[0;34m\u001b[0m\u001b[0;34m\u001b[0m\u001b[0m\n\u001b[1;32m    491\u001b[0m         \u001b[0;32mif\u001b[0m \u001b[0mself\u001b[0m\u001b[0;34m.\u001b[0m\u001b[0m_validator\u001b[0m \u001b[0;32mis\u001b[0m \u001b[0;32mnot\u001b[0m \u001b[0;32mNone\u001b[0m\u001b[0;34m:\u001b[0m\u001b[0;34m\u001b[0m\u001b[0;34m\u001b[0m\u001b[0m\n\u001b[0;32m--> 492\u001b[0;31m             \u001b[0mself\u001b[0m\u001b[0;34m.\u001b[0m\u001b[0m_validator\u001b[0m\u001b[0;34m(\u001b[0m\u001b[0mobj\u001b[0m\u001b[0;34m,\u001b[0m \u001b[0mvalue\u001b[0m\u001b[0;34m)\u001b[0m\u001b[0;34m\u001b[0m\u001b[0;34m\u001b[0m\u001b[0m\n\u001b[0m\u001b[1;32m    493\u001b[0m \u001b[0;34m\u001b[0m\u001b[0m\n\u001b[1;32m    494\u001b[0m         \u001b[0mold_value\u001b[0m \u001b[0;34m=\u001b[0m \u001b[0mgetattr\u001b[0m\u001b[0;34m(\u001b[0m\u001b[0mobj\u001b[0m\u001b[0;34m,\u001b[0m \u001b[0mself\u001b[0m\u001b[0;34m.\u001b[0m\u001b[0m_attr\u001b[0m\u001b[0;34m,\u001b[0m \u001b[0;32mNone\u001b[0m\u001b[0;34m)\u001b[0m\u001b[0;34m\u001b[0m\u001b[0;34m\u001b[0m\u001b[0m\n",
      "\u001b[0;32m/opt/local/stow/anaconda3/lib/python3.7/site-packages/astropy/io/fits/column.py\u001b[0m in \u001b[0;36mname\u001b[0;34m(col, name)\u001b[0m\n\u001b[1;32m    838\u001b[0m         \u001b[0;31m# without any special extension like CONTINUE cards or the like.\u001b[0m\u001b[0;34m\u001b[0m\u001b[0;34m\u001b[0m\u001b[0;34m\u001b[0m\u001b[0m\n\u001b[1;32m    839\u001b[0m         if (not isinstance(name, str)\n\u001b[0;32m--> 840\u001b[0;31m                 or len(str(Card('TTYPE', name))) != CARD_LENGTH):\n\u001b[0m\u001b[1;32m    841\u001b[0m             raise AssertionError(\n\u001b[1;32m    842\u001b[0m                 \u001b[0;34m'Column name must be a string able to fit in a single '\u001b[0m\u001b[0;34m\u001b[0m\u001b[0;34m\u001b[0m\u001b[0m\n",
      "\u001b[0;32m/opt/local/stow/anaconda3/lib/python3.7/site-packages/astropy/io/fits/card.py\u001b[0m in \u001b[0;36m__str__\u001b[0;34m(self)\u001b[0m\n\u001b[1;32m    204\u001b[0m \u001b[0;34m\u001b[0m\u001b[0m\n\u001b[1;32m    205\u001b[0m     \u001b[0;32mdef\u001b[0m \u001b[0m__str__\u001b[0m\u001b[0;34m(\u001b[0m\u001b[0mself\u001b[0m\u001b[0;34m)\u001b[0m\u001b[0;34m:\u001b[0m\u001b[0;34m\u001b[0m\u001b[0;34m\u001b[0m\u001b[0m\n\u001b[0;32m--> 206\u001b[0;31m         \u001b[0;32mreturn\u001b[0m \u001b[0mself\u001b[0m\u001b[0;34m.\u001b[0m\u001b[0mimage\u001b[0m\u001b[0;34m\u001b[0m\u001b[0;34m\u001b[0m\u001b[0m\n\u001b[0m\u001b[1;32m    207\u001b[0m \u001b[0;34m\u001b[0m\u001b[0m\n\u001b[1;32m    208\u001b[0m     \u001b[0;32mdef\u001b[0m \u001b[0m__len__\u001b[0m\u001b[0;34m(\u001b[0m\u001b[0mself\u001b[0m\u001b[0;34m)\u001b[0m\u001b[0;34m:\u001b[0m\u001b[0;34m\u001b[0m\u001b[0;34m\u001b[0m\u001b[0m\n",
      "\u001b[0;32m/opt/local/stow/anaconda3/lib/python3.7/site-packages/astropy/io/fits/card.py\u001b[0m in \u001b[0;36mimage\u001b[0;34m(self)\u001b[0m\n\u001b[1;32m    503\u001b[0m             \u001b[0mself\u001b[0m\u001b[0;34m.\u001b[0m\u001b[0mverify\u001b[0m\u001b[0;34m(\u001b[0m\u001b[0;34m'fix+warn'\u001b[0m\u001b[0;34m)\u001b[0m\u001b[0;34m\u001b[0m\u001b[0;34m\u001b[0m\u001b[0m\n\u001b[1;32m    504\u001b[0m         \u001b[0;32mif\u001b[0m \u001b[0mself\u001b[0m\u001b[0;34m.\u001b[0m\u001b[0m_image\u001b[0m \u001b[0;32mis\u001b[0m \u001b[0;32mNone\u001b[0m \u001b[0;32mor\u001b[0m \u001b[0mself\u001b[0m\u001b[0;34m.\u001b[0m\u001b[0m_modified\u001b[0m\u001b[0;34m:\u001b[0m\u001b[0;34m\u001b[0m\u001b[0;34m\u001b[0m\u001b[0m\n\u001b[0;32m--> 505\u001b[0;31m             \u001b[0mself\u001b[0m\u001b[0;34m.\u001b[0m\u001b[0m_image\u001b[0m \u001b[0;34m=\u001b[0m \u001b[0mself\u001b[0m\u001b[0;34m.\u001b[0m\u001b[0m_format_image\u001b[0m\u001b[0;34m(\u001b[0m\u001b[0;34m)\u001b[0m\u001b[0;34m\u001b[0m\u001b[0;34m\u001b[0m\u001b[0m\n\u001b[0m\u001b[1;32m    506\u001b[0m         \u001b[0;32mreturn\u001b[0m \u001b[0mself\u001b[0m\u001b[0;34m.\u001b[0m\u001b[0m_image\u001b[0m\u001b[0;34m\u001b[0m\u001b[0;34m\u001b[0m\u001b[0m\n\u001b[1;32m    507\u001b[0m \u001b[0;34m\u001b[0m\u001b[0m\n",
      "\u001b[0;32m/opt/local/stow/anaconda3/lib/python3.7/site-packages/astropy/io/fits/card.py\u001b[0m in \u001b[0;36m_format_image\u001b[0;34m(self)\u001b[0m\n\u001b[1;32m    966\u001b[0m         \u001b[0mkeyword\u001b[0m \u001b[0;34m=\u001b[0m \u001b[0mself\u001b[0m\u001b[0;34m.\u001b[0m\u001b[0m_format_keyword\u001b[0m\u001b[0;34m(\u001b[0m\u001b[0;34m)\u001b[0m\u001b[0;34m\u001b[0m\u001b[0;34m\u001b[0m\u001b[0m\n\u001b[1;32m    967\u001b[0m \u001b[0;34m\u001b[0m\u001b[0m\n\u001b[0;32m--> 968\u001b[0;31m         \u001b[0mvalue\u001b[0m \u001b[0;34m=\u001b[0m \u001b[0mself\u001b[0m\u001b[0;34m.\u001b[0m\u001b[0m_format_value\u001b[0m\u001b[0;34m(\u001b[0m\u001b[0;34m)\u001b[0m\u001b[0;34m\u001b[0m\u001b[0;34m\u001b[0m\u001b[0m\n\u001b[0m\u001b[1;32m    969\u001b[0m         \u001b[0mis_commentary\u001b[0m \u001b[0;34m=\u001b[0m \u001b[0mkeyword\u001b[0m\u001b[0;34m.\u001b[0m\u001b[0mstrip\u001b[0m\u001b[0;34m(\u001b[0m\u001b[0;34m)\u001b[0m \u001b[0;32min\u001b[0m \u001b[0mself\u001b[0m\u001b[0;34m.\u001b[0m\u001b[0m_commentary_keywords\u001b[0m\u001b[0;34m\u001b[0m\u001b[0;34m\u001b[0m\u001b[0m\n\u001b[1;32m    970\u001b[0m         \u001b[0;32mif\u001b[0m \u001b[0mis_commentary\u001b[0m\u001b[0;34m:\u001b[0m\u001b[0;34m\u001b[0m\u001b[0;34m\u001b[0m\u001b[0m\n",
      "\u001b[0;32m/opt/local/stow/anaconda3/lib/python3.7/site-packages/astropy/io/fits/card.py\u001b[0m in \u001b[0;36m_format_value\u001b[0;34m(self)\u001b[0m\n\u001b[1;32m    932\u001b[0m \u001b[0;34m\u001b[0m\u001b[0m\n\u001b[1;32m    933\u001b[0m         \u001b[0;31m# Force the value to be parsed out first\u001b[0m\u001b[0;34m\u001b[0m\u001b[0;34m\u001b[0m\u001b[0;34m\u001b[0m\u001b[0m\n\u001b[0;32m--> 934\u001b[0;31m         \u001b[0mvalue\u001b[0m \u001b[0;34m=\u001b[0m \u001b[0mself\u001b[0m\u001b[0;34m.\u001b[0m\u001b[0mvalue\u001b[0m\u001b[0;34m\u001b[0m\u001b[0;34m\u001b[0m\u001b[0m\n\u001b[0m\u001b[1;32m    935\u001b[0m         \u001b[0;31m# But work with the underlying raw value instead (to preserve\u001b[0m\u001b[0;34m\u001b[0m\u001b[0;34m\u001b[0m\u001b[0;34m\u001b[0m\u001b[0m\n\u001b[1;32m    936\u001b[0m         \u001b[0;31m# whitespace, for now...)\u001b[0m\u001b[0;34m\u001b[0m\u001b[0;34m\u001b[0m\u001b[0;34m\u001b[0m\u001b[0m\n",
      "\u001b[0;32m/opt/local/stow/anaconda3/lib/python3.7/site-packages/astropy/io/fits/card.py\u001b[0m in \u001b[0;36mvalue\u001b[0;34m(self)\u001b[0m\n\u001b[1;32m    291\u001b[0m                 \u001b[0mself\u001b[0m\u001b[0;34m.\u001b[0m\u001b[0m_value\u001b[0m \u001b[0;34m=\u001b[0m \u001b[0mvalue\u001b[0m \u001b[0;34m=\u001b[0m \u001b[0mUNDEFINED\u001b[0m\u001b[0;34m\u001b[0m\u001b[0;34m\u001b[0m\u001b[0m\n\u001b[1;32m    292\u001b[0m \u001b[0;34m\u001b[0m\u001b[0m\n\u001b[0;32m--> 293\u001b[0;31m         \u001b[0;32mif\u001b[0m \u001b[0mconf\u001b[0m\u001b[0;34m.\u001b[0m\u001b[0mstrip_header_whitespace\u001b[0m \u001b[0;32mand\u001b[0m \u001b[0misinstance\u001b[0m\u001b[0;34m(\u001b[0m\u001b[0mvalue\u001b[0m\u001b[0;34m,\u001b[0m \u001b[0mstr\u001b[0m\u001b[0;34m)\u001b[0m\u001b[0;34m:\u001b[0m\u001b[0;34m\u001b[0m\u001b[0;34m\u001b[0m\u001b[0m\n\u001b[0m\u001b[1;32m    294\u001b[0m             \u001b[0mvalue\u001b[0m \u001b[0;34m=\u001b[0m \u001b[0mvalue\u001b[0m\u001b[0;34m.\u001b[0m\u001b[0mrstrip\u001b[0m\u001b[0;34m(\u001b[0m\u001b[0;34m)\u001b[0m\u001b[0;34m\u001b[0m\u001b[0;34m\u001b[0m\u001b[0m\n\u001b[1;32m    295\u001b[0m \u001b[0;34m\u001b[0m\u001b[0m\n",
      "\u001b[0;32m/opt/local/stow/anaconda3/lib/python3.7/site-packages/astropy/config/configuration.py\u001b[0m in \u001b[0;36m__get__\u001b[0;34m(self, obj, objtype)\u001b[0m\n\u001b[1;32m    300\u001b[0m         \u001b[0;32mif\u001b[0m \u001b[0mobj\u001b[0m \u001b[0;32mis\u001b[0m \u001b[0;32mNone\u001b[0m\u001b[0;34m:\u001b[0m\u001b[0;34m\u001b[0m\u001b[0;34m\u001b[0m\u001b[0m\n\u001b[1;32m    301\u001b[0m             \u001b[0;32mreturn\u001b[0m \u001b[0mself\u001b[0m\u001b[0;34m\u001b[0m\u001b[0;34m\u001b[0m\u001b[0m\n\u001b[0;32m--> 302\u001b[0;31m         \u001b[0;32mreturn\u001b[0m \u001b[0mself\u001b[0m\u001b[0;34m(\u001b[0m\u001b[0;34m)\u001b[0m\u001b[0;34m\u001b[0m\u001b[0;34m\u001b[0m\u001b[0m\n\u001b[0m\u001b[1;32m    303\u001b[0m \u001b[0;34m\u001b[0m\u001b[0m\n\u001b[1;32m    304\u001b[0m     \u001b[0;32mdef\u001b[0m \u001b[0mset\u001b[0m\u001b[0;34m(\u001b[0m\u001b[0mself\u001b[0m\u001b[0;34m,\u001b[0m \u001b[0mvalue\u001b[0m\u001b[0;34m)\u001b[0m\u001b[0;34m:\u001b[0m\u001b[0;34m\u001b[0m\u001b[0;34m\u001b[0m\u001b[0m\n",
      "\u001b[0;32m/opt/local/stow/anaconda3/lib/python3.7/site-packages/astropy/config/configuration.py\u001b[0m in \u001b[0;36m__call__\u001b[0;34m(self)\u001b[0m\n\u001b[1;32m    425\u001b[0m \u001b[0;34m\u001b[0m\u001b[0m\n\u001b[1;32m    426\u001b[0m         \u001b[0moptions\u001b[0m \u001b[0;34m=\u001b[0m \u001b[0;34m[\u001b[0m\u001b[0;34m]\u001b[0m\u001b[0;34m\u001b[0m\u001b[0;34m\u001b[0m\u001b[0m\n\u001b[0;32m--> 427\u001b[0;31m         \u001b[0msec\u001b[0m \u001b[0;34m=\u001b[0m \u001b[0mget_config\u001b[0m\u001b[0;34m(\u001b[0m\u001b[0mself\u001b[0m\u001b[0;34m.\u001b[0m\u001b[0mmodule\u001b[0m\u001b[0;34m,\u001b[0m \u001b[0mrootname\u001b[0m\u001b[0;34m=\u001b[0m\u001b[0mself\u001b[0m\u001b[0;34m.\u001b[0m\u001b[0mrootname\u001b[0m\u001b[0;34m)\u001b[0m\u001b[0;34m\u001b[0m\u001b[0;34m\u001b[0m\u001b[0m\n\u001b[0m\u001b[1;32m    428\u001b[0m         \u001b[0;32mif\u001b[0m \u001b[0mself\u001b[0m\u001b[0;34m.\u001b[0m\u001b[0mname\u001b[0m \u001b[0;32min\u001b[0m \u001b[0msec\u001b[0m\u001b[0;34m:\u001b[0m\u001b[0;34m\u001b[0m\u001b[0;34m\u001b[0m\u001b[0m\n\u001b[1;32m    429\u001b[0m             \u001b[0moptions\u001b[0m\u001b[0;34m.\u001b[0m\u001b[0mappend\u001b[0m\u001b[0;34m(\u001b[0m\u001b[0;34m(\u001b[0m\u001b[0msec\u001b[0m\u001b[0;34m[\u001b[0m\u001b[0mself\u001b[0m\u001b[0;34m.\u001b[0m\u001b[0mname\u001b[0m\u001b[0;34m]\u001b[0m\u001b[0;34m,\u001b[0m \u001b[0mself\u001b[0m\u001b[0;34m.\u001b[0m\u001b[0mmodule\u001b[0m\u001b[0;34m,\u001b[0m \u001b[0mself\u001b[0m\u001b[0;34m.\u001b[0m\u001b[0mname\u001b[0m\u001b[0;34m)\u001b[0m\u001b[0;34m)\u001b[0m\u001b[0;34m\u001b[0m\u001b[0;34m\u001b[0m\u001b[0m\n",
      "\u001b[0;32m/opt/local/stow/anaconda3/lib/python3.7/site-packages/astropy/config/configuration.py\u001b[0m in \u001b[0;36mget_config\u001b[0;34m(packageormod, reload, rootname)\u001b[0m\n\u001b[1;32m    587\u001b[0m         \u001b[0;32mif\u001b[0m \u001b[0msecname\u001b[0m \u001b[0;32mnot\u001b[0m \u001b[0;32min\u001b[0m \u001b[0mcobj\u001b[0m\u001b[0;34m:\u001b[0m\u001b[0;34m\u001b[0m\u001b[0;34m\u001b[0m\u001b[0m\n\u001b[1;32m    588\u001b[0m             \u001b[0mcobj\u001b[0m\u001b[0;34m[\u001b[0m\u001b[0msecname\u001b[0m\u001b[0;34m]\u001b[0m \u001b[0;34m=\u001b[0m \u001b[0;34m{\u001b[0m\u001b[0;34m}\u001b[0m\u001b[0;34m\u001b[0m\u001b[0;34m\u001b[0m\u001b[0m\n\u001b[0;32m--> 589\u001b[0;31m         \u001b[0;32mreturn\u001b[0m \u001b[0mcobj\u001b[0m\u001b[0;34m[\u001b[0m\u001b[0msecname\u001b[0m\u001b[0;34m]\u001b[0m\u001b[0;34m\u001b[0m\u001b[0;34m\u001b[0m\u001b[0m\n\u001b[0m\u001b[1;32m    590\u001b[0m     \u001b[0;32melse\u001b[0m\u001b[0;34m:\u001b[0m\u001b[0;34m\u001b[0m\u001b[0;34m\u001b[0m\u001b[0m\n\u001b[1;32m    591\u001b[0m         \u001b[0;32mreturn\u001b[0m \u001b[0mcobj\u001b[0m\u001b[0;34m\u001b[0m\u001b[0;34m\u001b[0m\u001b[0m\n",
      "\u001b[0;32m/opt/local/stow/anaconda3/lib/python3.7/site-packages/astropy/extern/configobj/configobj.py\u001b[0m in \u001b[0;36m__getitem__\u001b[0;34m(self, key)\u001b[0m\n\u001b[1;32m    551\u001b[0m         \u001b[0;34m\"\"\"Fetch the item and do string interpolation.\"\"\"\u001b[0m\u001b[0;34m\u001b[0m\u001b[0;34m\u001b[0m\u001b[0m\n\u001b[1;32m    552\u001b[0m         \u001b[0mval\u001b[0m \u001b[0;34m=\u001b[0m \u001b[0mdict\u001b[0m\u001b[0;34m.\u001b[0m\u001b[0m__getitem__\u001b[0m\u001b[0;34m(\u001b[0m\u001b[0mself\u001b[0m\u001b[0;34m,\u001b[0m \u001b[0mkey\u001b[0m\u001b[0;34m)\u001b[0m\u001b[0;34m\u001b[0m\u001b[0;34m\u001b[0m\u001b[0m\n\u001b[0;32m--> 553\u001b[0;31m         \u001b[0;32mif\u001b[0m \u001b[0mself\u001b[0m\u001b[0;34m.\u001b[0m\u001b[0mmain\u001b[0m\u001b[0;34m.\u001b[0m\u001b[0minterpolation\u001b[0m\u001b[0;34m:\u001b[0m\u001b[0;34m\u001b[0m\u001b[0;34m\u001b[0m\u001b[0m\n\u001b[0m\u001b[1;32m    554\u001b[0m             \u001b[0;32mif\u001b[0m \u001b[0misinstance\u001b[0m\u001b[0;34m(\u001b[0m\u001b[0mval\u001b[0m\u001b[0;34m,\u001b[0m \u001b[0mstr\u001b[0m\u001b[0;34m)\u001b[0m\u001b[0;34m:\u001b[0m\u001b[0;34m\u001b[0m\u001b[0;34m\u001b[0m\u001b[0m\n\u001b[1;32m    555\u001b[0m                 \u001b[0;32mreturn\u001b[0m \u001b[0mself\u001b[0m\u001b[0;34m.\u001b[0m\u001b[0m_interpolate\u001b[0m\u001b[0;34m(\u001b[0m\u001b[0mkey\u001b[0m\u001b[0;34m,\u001b[0m \u001b[0mval\u001b[0m\u001b[0;34m)\u001b[0m\u001b[0;34m\u001b[0m\u001b[0;34m\u001b[0m\u001b[0m\n",
      "\u001b[0;31mKeyboardInterrupt\u001b[0m: "
     ]
    }
   ],
   "source": [
    "expanded_projection(\"/home/scratch/tchamber/antenna_fits/\")"
   ]
  },
  {
   "cell_type": "code",
   "execution_count": 18,
   "id": "83420694",
   "metadata": {},
   "outputs": [
    {
     "name": "stderr",
     "output_type": "stream",
     "text": [
      " 25%|████████████████▌                                                 | 1/4 [00:12<00:38, 12.82s/it]"
     ]
    },
    {
     "name": "stdout",
     "output_type": "stream",
     "text": [
      "['AGBT13B_312']\n"
     ]
    },
    {
     "name": "stderr",
     "output_type": "stream",
     "text": [
      "\r",
      " 50%|█████████████████████████████████                                 | 2/4 [00:21<00:20, 10.34s/it]"
     ]
    },
    {
     "name": "stdout",
     "output_type": "stream",
     "text": [
      "['AGBT13B_312']\n"
     ]
    },
    {
     "name": "stderr",
     "output_type": "stream",
     "text": [
      "100%|██████████████████████████████████████████████████████████████████| 4/4 [00:28<00:00,  7.22s/it]"
     ]
    },
    {
     "name": "stdout",
     "output_type": "stream",
     "text": [
      "['AGBT13B_312', 'AGBT16A_353']\n",
      "['AGBT13B_312', 'AGBT16A_353']\n"
     ]
    },
    {
     "name": "stderr",
     "output_type": "stream",
     "text": [
      "\n"
     ]
    },
    {
     "data": {
      "image/png": "[encoded data removed]",
      "text/plain": [
       "<Figure size 800x600 with 1 Axes>"
      ]
     },
     "metadata": {},
     "output_type": "display_data"
    }
   ],
   "source": [
    "colored_projection_dict(\"/home/scratch/kwei/raw_data/\")"
   ]
  },
  {
   "cell_type": "code",
   "execution_count": 20,
   "id": "87c5ecd0",
   "metadata": {},
   "outputs": [
    {
     "name": "stderr",
     "output_type": "stream",
     "text": [
      "100%|██████████████████████████████████████████████████████████████████| 4/4 [00:29<00:00,  7.42s/it]\n"
     ]
    },
    {
     "data": {
      "image/png": "[encoded data removed]",
      "text/plain": [
       "<Figure size 800x600 with 1 Axes>"
      ]
     },
     "metadata": {},
     "output_type": "display_data"
    }
   ],
   "source": [
    "colored_projection_table(\"/home/scratch/kwei/raw_data/\")"
   ]
  },
  {
   "cell_type": "code",
   "execution_count": 21,
   "id": "ec58b52a",
   "metadata": {},
   "outputs": [
    {
     "name": "stderr",
     "output_type": "stream",
     "text": [
      "  1%|▎                                                               | 1/180 [00:03<09:57,  3.34s/it]"
     ]
    },
    {
     "name": "stdout",
     "output_type": "stream",
     "text": [
      "['AGBT13B_312']\n"
     ]
    },
    {
     "name": "stderr",
     "output_type": "stream",
     "text": [
      "\r",
      "  1%|▋                                                               | 2/180 [00:07<12:04,  4.07s/it]"
     ]
    },
    {
     "name": "stdout",
     "output_type": "stream",
     "text": [
      "['AGBT13B_312']\n"
     ]
    },
    {
     "name": "stderr",
     "output_type": "stream",
     "text": [
      "\r",
      "  2%|█                                                               | 3/180 [00:08<07:28,  2.53s/it]"
     ]
    },
    {
     "name": "stdout",
     "output_type": "stream",
     "text": [
      "['AGBT13B_312']\n"
     ]
    },
    {
     "name": "stderr",
     "output_type": "stream",
     "text": [
      "\r",
      "  2%|█▍                                                              | 4/180 [00:10<06:25,  2.19s/it]"
     ]
    },
    {
     "name": "stdout",
     "output_type": "stream",
     "text": [
      "['AGBT13B_312']\n"
     ]
    },
    {
     "name": "stderr",
     "output_type": "stream",
     "text": [
      "\r",
      "  3%|█▊                                                              | 5/180 [00:19<13:41,  4.69s/it]"
     ]
    },
    {
     "name": "stdout",
     "output_type": "stream",
     "text": [
      "['AGBT13B_312']\n"
     ]
    },
    {
     "name": "stderr",
     "output_type": "stream",
     "text": [
      "\r",
      "  3%|██▏                                                             | 6/180 [00:23<12:40,  4.37s/it]"
     ]
    },
    {
     "name": "stdout",
     "output_type": "stream",
     "text": [
      "['AGBT13B_312']\n"
     ]
    },
    {
     "name": "stderr",
     "output_type": "stream",
     "text": [
      "\r",
      "  4%|██▍                                                             | 7/180 [00:29<14:47,  5.13s/it]"
     ]
    },
    {
     "name": "stdout",
     "output_type": "stream",
     "text": [
      "['AGBT13B_312']\n"
     ]
    },
    {
     "name": "stderr",
     "output_type": "stream",
     "text": [
      "\r",
      "  4%|██▊                                                             | 8/180 [00:31<11:35,  4.04s/it]"
     ]
    },
    {
     "name": "stdout",
     "output_type": "stream",
     "text": [
      "['AGBT13B_312']\n"
     ]
    },
    {
     "name": "stderr",
     "output_type": "stream",
     "text": [
      "\r",
      "  5%|███▏                                                            | 9/180 [00:33<09:32,  3.35s/it]"
     ]
    },
    {
     "name": "stdout",
     "output_type": "stream",
     "text": [
      "['AGBT13B_312']\n"
     ]
    },
    {
     "name": "stderr",
     "output_type": "stream",
     "text": [
      "\r",
      "  6%|███▌                                                           | 10/180 [00:35<08:22,  2.96s/it]"
     ]
    },
    {
     "name": "stdout",
     "output_type": "stream",
     "text": [
      "['AGBT13B_312']\n"
     ]
    },
    {
     "name": "stderr",
     "output_type": "stream",
     "text": [
      "\r",
      "  6%|███▊                                                           | 11/180 [00:39<09:12,  3.27s/it]"
     ]
    },
    {
     "name": "stdout",
     "output_type": "stream",
     "text": [
      "['AGBT13B_312']\n"
     ]
    },
    {
     "name": "stderr",
     "output_type": "stream",
     "text": [
      "\r",
      "  7%|████▏                                                          | 12/180 [00:41<08:05,  2.89s/it]"
     ]
    },
    {
     "name": "stdout",
     "output_type": "stream",
     "text": [
      "['AGBT13B_312']\n"
     ]
    },
    {
     "name": "stderr",
     "output_type": "stream",
     "text": [
      "\r",
      "  7%|████▌                                                          | 13/180 [00:44<08:25,  3.02s/it]"
     ]
    },
    {
     "name": "stdout",
     "output_type": "stream",
     "text": [
      "['AGBT13B_312']\n"
     ]
    },
    {
     "name": "stderr",
     "output_type": "stream",
     "text": [
      "\r",
      "  8%|████▉                                                          | 14/180 [00:49<09:56,  3.59s/it]"
     ]
    },
    {
     "name": "stdout",
     "output_type": "stream",
     "text": [
      "['AGBT13B_312']\n"
     ]
    },
    {
     "name": "stderr",
     "output_type": "stream",
     "text": [
      "\r",
      "  8%|█████▎                                                         | 15/180 [00:51<08:12,  2.98s/it]"
     ]
    },
    {
     "name": "stdout",
     "output_type": "stream",
     "text": [
      "['AGBT13B_312']\n"
     ]
    },
    {
     "name": "stderr",
     "output_type": "stream",
     "text": [
      "\r",
      "  9%|█████▌                                                         | 16/180 [00:55<09:21,  3.42s/it]"
     ]
    },
    {
     "name": "stdout",
     "output_type": "stream",
     "text": [
      "['AGBT13B_312']\n"
     ]
    },
    {
     "name": "stderr",
     "output_type": "stream",
     "text": [
      "\r",
      "  9%|█████▉                                                         | 17/180 [01:02<11:50,  4.36s/it]"
     ]
    },
    {
     "name": "stdout",
     "output_type": "stream",
     "text": [
      "['AGBT13B_312']\n"
     ]
    },
    {
     "name": "stderr",
     "output_type": "stream",
     "text": [
      "\r",
      " 10%|██████▎                                                        | 18/180 [01:08<13:04,  4.84s/it]"
     ]
    },
    {
     "name": "stdout",
     "output_type": "stream",
     "text": [
      "['AGBT13B_312']\n"
     ]
    },
    {
     "name": "stderr",
     "output_type": "stream",
     "text": [
      "\r",
      " 11%|██████▋                                                        | 19/180 [01:14<13:48,  5.15s/it]"
     ]
    },
    {
     "name": "stdout",
     "output_type": "stream",
     "text": [
      "['AGBT13B_312']\n"
     ]
    },
    {
     "name": "stderr",
     "output_type": "stream",
     "text": [
      "\r",
      " 11%|███████                                                        | 20/180 [01:19<14:00,  5.25s/it]"
     ]
    },
    {
     "name": "stdout",
     "output_type": "stream",
     "text": [
      "['AGBT13B_312']\n"
     ]
    },
    {
     "name": "stderr",
     "output_type": "stream",
     "text": [
      "\r",
      " 12%|███████▎                                                       | 21/180 [01:25<14:24,  5.44s/it]"
     ]
    },
    {
     "name": "stdout",
     "output_type": "stream",
     "text": [
      "['AGBT13B_312']\n"
     ]
    },
    {
     "name": "stderr",
     "output_type": "stream",
     "text": [
      "\r",
      " 12%|███████▋                                                       | 22/180 [01:30<14:13,  5.40s/it]"
     ]
    },
    {
     "name": "stdout",
     "output_type": "stream",
     "text": [
      "['AGBT13B_312']\n"
     ]
    },
    {
     "name": "stderr",
     "output_type": "stream",
     "text": [
      "\r",
      " 13%|████████                                                       | 23/180 [01:32<11:16,  4.31s/it]"
     ]
    },
    {
     "name": "stdout",
     "output_type": "stream",
     "text": [
      "['AGBT13B_312']\n"
     ]
    },
    {
     "name": "stderr",
     "output_type": "stream",
     "text": [
      "\r",
      " 13%|████████▍                                                      | 24/180 [01:35<10:23,  4.00s/it]"
     ]
    },
    {
     "name": "stdout",
     "output_type": "stream",
     "text": [
      "['AGBT13B_312']\n"
     ]
    },
    {
     "name": "stderr",
     "output_type": "stream",
     "text": [
      "\r",
      " 14%|████████▊                                                      | 25/180 [01:44<13:45,  5.32s/it]"
     ]
    },
    {
     "name": "stdout",
     "output_type": "stream",
     "text": [
      "['AGBT13B_312']\n"
     ]
    },
    {
     "name": "stderr",
     "output_type": "stream",
     "text": [
      "\r",
      " 14%|█████████                                                      | 26/180 [01:48<13:00,  5.07s/it]"
     ]
    },
    {
     "name": "stdout",
     "output_type": "stream",
     "text": [
      "['AGBT13B_312']\n"
     ]
    },
    {
     "name": "stderr",
     "output_type": "stream",
     "text": [
      "\r",
      " 15%|█████████▍                                                     | 27/180 [01:54<13:44,  5.39s/it]"
     ]
    },
    {
     "name": "stdout",
     "output_type": "stream",
     "text": [
      "['AGBT13B_312']\n"
     ]
    },
    {
     "name": "stderr",
     "output_type": "stream",
     "text": [
      "\r",
      " 16%|█████████▊                                                     | 28/180 [01:59<12:55,  5.10s/it]"
     ]
    },
    {
     "name": "stdout",
     "output_type": "stream",
     "text": [
      "['AGBT13B_312']\n"
     ]
    },
    {
     "name": "stderr",
     "output_type": "stream",
     "text": [
      "\r",
      " 16%|██████████▏                                                    | 29/180 [02:11<18:24,  7.32s/it]"
     ]
    },
    {
     "name": "stdout",
     "output_type": "stream",
     "text": [
      "['AGBT13B_312']\n"
     ]
    },
    {
     "name": "stderr",
     "output_type": "stream",
     "text": [
      "\r",
      " 17%|██████████▌                                                    | 30/180 [02:15<15:52,  6.35s/it]"
     ]
    },
    {
     "name": "stdout",
     "output_type": "stream",
     "text": [
      "['AGBT13B_312']\n"
     ]
    },
    {
     "name": "stderr",
     "output_type": "stream",
     "text": [
      "\r",
      " 17%|██████████▊                                                    | 31/180 [02:22<15:54,  6.40s/it]"
     ]
    },
    {
     "name": "stdout",
     "output_type": "stream",
     "text": [
      "['AGBT13B_312']\n"
     ]
    },
    {
     "name": "stderr",
     "output_type": "stream",
     "text": [
      "\r",
      " 18%|███████████▏                                                   | 32/180 [02:26<14:26,  5.86s/it]"
     ]
    },
    {
     "name": "stdout",
     "output_type": "stream",
     "text": [
      "['AGBT13B_312']\n"
     ]
    },
    {
     "name": "stderr",
     "output_type": "stream",
     "text": [
      "\r",
      " 18%|███████████▌                                                   | 33/180 [02:34<15:18,  6.25s/it]"
     ]
    },
    {
     "name": "stdout",
     "output_type": "stream",
     "text": [
      "['AGBT13B_312']\n"
     ]
    },
    {
     "name": "stderr",
     "output_type": "stream",
     "text": [
      "\r",
      " 19%|███████████▉                                                   | 34/180 [02:46<19:55,  8.19s/it]"
     ]
    },
    {
     "name": "stdout",
     "output_type": "stream",
     "text": [
      "['AGBT13B_312']\n"
     ]
    },
    {
     "name": "stderr",
     "output_type": "stream",
     "text": [
      "\r",
      " 19%|████████████▎                                                  | 35/180 [02:56<21:03,  8.71s/it]"
     ]
    },
    {
     "name": "stdout",
     "output_type": "stream",
     "text": [
      "['AGBT13B_312']\n"
     ]
    },
    {
     "name": "stderr",
     "output_type": "stream",
     "text": [
      "\r",
      " 20%|████████████▌                                                  | 36/180 [03:01<18:09,  7.57s/it]"
     ]
    },
    {
     "name": "stdout",
     "output_type": "stream",
     "text": [
      "['AGBT13B_312']\n"
     ]
    },
    {
     "name": "stderr",
     "output_type": "stream",
     "text": [
      "\r",
      " 21%|████████████▉                                                  | 37/180 [03:06<15:52,  6.66s/it]"
     ]
    },
    {
     "name": "stdout",
     "output_type": "stream",
     "text": [
      "['AGBT13B_312']\n"
     ]
    },
    {
     "name": "stderr",
     "output_type": "stream",
     "text": [
      "\r",
      " 21%|█████████████▎                                                 | 38/180 [03:18<19:44,  8.34s/it]"
     ]
    },
    {
     "name": "stdout",
     "output_type": "stream",
     "text": [
      "['AGBT13B_312']\n"
     ]
    },
    {
     "name": "stderr",
     "output_type": "stream",
     "text": [
      "\r",
      " 22%|█████████████▋                                                 | 39/180 [03:24<17:51,  7.60s/it]"
     ]
    },
    {
     "name": "stdout",
     "output_type": "stream",
     "text": [
      "['AGBT13B_312']\n"
     ]
    },
    {
     "name": "stderr",
     "output_type": "stream",
     "text": [
      "\r",
      " 22%|██████████████                                                 | 40/180 [03:32<17:55,  7.68s/it]"
     ]
    },
    {
     "name": "stdout",
     "output_type": "stream",
     "text": [
      "['AGBT13B_312']\n"
     ]
    },
    {
     "name": "stderr",
     "output_type": "stream",
     "text": [
      "\r",
      " 23%|██████████████▎                                                | 41/180 [03:36<15:15,  6.59s/it]"
     ]
    },
    {
     "name": "stdout",
     "output_type": "stream",
     "text": [
      "['AGBT13B_312']\n"
     ]
    },
    {
     "name": "stderr",
     "output_type": "stream",
     "text": [
      "\r",
      " 23%|██████████████▋                                                | 42/180 [03:41<13:53,  6.04s/it]"
     ]
    },
    {
     "name": "stdout",
     "output_type": "stream",
     "text": [
      "['AGBT13B_312']\n"
     ]
    },
    {
     "name": "stderr",
     "output_type": "stream",
     "text": [
      "\r",
      " 24%|███████████████                                                | 43/180 [03:43<11:11,  4.91s/it]"
     ]
    },
    {
     "name": "stdout",
     "output_type": "stream",
     "text": [
      "['AGBT13B_312']\n"
     ]
    },
    {
     "name": "stderr",
     "output_type": "stream",
     "text": [
      "\r",
      " 24%|███████████████▍                                               | 44/180 [03:48<11:04,  4.89s/it]"
     ]
    },
    {
     "name": "stdout",
     "output_type": "stream",
     "text": [
      "['AGBT13B_312']\n"
     ]
    },
    {
     "name": "stderr",
     "output_type": "stream",
     "text": [
      "\r",
      " 25%|███████████████▊                                               | 45/180 [03:58<14:59,  6.66s/it]"
     ]
    },
    {
     "name": "stdout",
     "output_type": "stream",
     "text": [
      "['AGBT13B_312']\n"
     ]
    },
    {
     "name": "stderr",
     "output_type": "stream",
     "text": [
      "\r",
      " 26%|████████████████                                               | 46/180 [04:05<15:04,  6.75s/it]"
     ]
    },
    {
     "name": "stdout",
     "output_type": "stream",
     "text": [
      "['AGBT13B_312']\n"
     ]
    },
    {
     "name": "stderr",
     "output_type": "stream",
     "text": [
      "\r",
      " 26%|████████████████▍                                              | 47/180 [04:09<12:48,  5.78s/it]"
     ]
    },
    {
     "name": "stdout",
     "output_type": "stream",
     "text": [
      "['AGBT13B_312']\n"
     ]
    },
    {
     "name": "stderr",
     "output_type": "stream",
     "text": [
      "\r",
      " 27%|████████████████▊                                              | 48/180 [04:16<13:29,  6.13s/it]"
     ]
    },
    {
     "name": "stdout",
     "output_type": "stream",
     "text": [
      "['AGBT13B_312']\n"
     ]
    },
    {
     "name": "stderr",
     "output_type": "stream",
     "text": [
      "\r",
      " 27%|█████████████████▏                                             | 49/180 [04:21<12:46,  5.85s/it]"
     ]
    },
    {
     "name": "stdout",
     "output_type": "stream",
     "text": [
      "['AGBT13B_312']\n"
     ]
    },
    {
     "name": "stderr",
     "output_type": "stream",
     "text": [
      "\r",
      " 28%|█████████████████▌                                             | 50/180 [04:25<11:38,  5.37s/it]"
     ]
    },
    {
     "name": "stdout",
     "output_type": "stream",
     "text": [
      "['AGBT13B_312']\n"
     ]
    },
    {
     "name": "stderr",
     "output_type": "stream",
     "text": [
      "\r",
      " 28%|█████████████████▊                                             | 51/180 [04:36<14:40,  6.82s/it]"
     ]
    },
    {
     "name": "stdout",
     "output_type": "stream",
     "text": [
      "['AGBT13B_312']\n"
     ]
    },
    {
     "name": "stderr",
     "output_type": "stream",
     "text": [
      "\r",
      " 29%|██████████████████▏                                            | 52/180 [04:39<12:35,  5.90s/it]"
     ]
    },
    {
     "name": "stdout",
     "output_type": "stream",
     "text": [
      "['AGBT13B_312']\n"
     ]
    },
    {
     "name": "stderr",
     "output_type": "stream",
     "text": [
      "\r",
      " 29%|██████████████████▌                                            | 53/180 [04:43<11:14,  5.31s/it]"
     ]
    },
    {
     "name": "stdout",
     "output_type": "stream",
     "text": [
      "['AGBT13B_312']\n"
     ]
    },
    {
     "name": "stderr",
     "output_type": "stream",
     "text": [
      "\r",
      " 30%|██████████████████▉                                            | 54/180 [04:48<10:45,  5.12s/it]"
     ]
    },
    {
     "name": "stdout",
     "output_type": "stream",
     "text": [
      "['AGBT13B_312']\n"
     ]
    },
    {
     "name": "stderr",
     "output_type": "stream",
     "text": [
      "\r",
      " 31%|███████████████████▎                                           | 55/180 [04:56<12:19,  5.92s/it]"
     ]
    },
    {
     "name": "stdout",
     "output_type": "stream",
     "text": [
      "['AGBT13B_312']\n"
     ]
    },
    {
     "name": "stderr",
     "output_type": "stream",
     "text": [
      "\r",
      " 31%|███████████████████▌                                           | 56/180 [04:59<10:27,  5.06s/it]"
     ]
    },
    {
     "name": "stdout",
     "output_type": "stream",
     "text": [
      "['AGBT13B_312', 'AGBT15A_186']\n"
     ]
    },
    {
     "name": "stderr",
     "output_type": "stream",
     "text": [
      "\r",
      " 32%|███████████████████▉                                           | 57/180 [05:04<10:17,  5.02s/it]"
     ]
    },
    {
     "name": "stdout",
     "output_type": "stream",
     "text": [
      "['AGBT13B_312', 'AGBT15A_186']\n"
     ]
    },
    {
     "name": "stderr",
     "output_type": "stream",
     "text": [
      "\r",
      " 32%|████████████████████▎                                          | 58/180 [05:13<12:55,  6.35s/it]"
     ]
    },
    {
     "name": "stdout",
     "output_type": "stream",
     "text": [
      "['AGBT13B_312', 'AGBT15A_186']\n"
     ]
    },
    {
     "name": "stderr",
     "output_type": "stream",
     "text": [
      "\r",
      " 33%|████████████████████▋                                          | 59/180 [05:23<14:46,  7.33s/it]"
     ]
    },
    {
     "name": "stdout",
     "output_type": "stream",
     "text": [
      "['AGBT13B_312', 'AGBT15A_186']\n"
     ]
    },
    {
     "name": "stderr",
     "output_type": "stream",
     "text": [
      "\r",
      " 33%|█████████████████████                                          | 60/180 [05:25<11:34,  5.79s/it]"
     ]
    },
    {
     "name": "stdout",
     "output_type": "stream",
     "text": [
      "['AGBT13B_312', 'AGBT15A_186']\n"
     ]
    },
    {
     "name": "stderr",
     "output_type": "stream",
     "text": [
      "\r",
      " 34%|█████████████████████▎                                         | 61/180 [05:29<10:36,  5.35s/it]"
     ]
    },
    {
     "name": "stdout",
     "output_type": "stream",
     "text": [
      "['AGBT13B_312', 'AGBT15A_186']\n"
     ]
    },
    {
     "name": "stderr",
     "output_type": "stream",
     "text": [
      "\r",
      " 34%|█████████████████████▋                                         | 62/180 [05:36<11:12,  5.70s/it]"
     ]
    },
    {
     "name": "stdout",
     "output_type": "stream",
     "text": [
      "['AGBT13B_312', 'AGBT15A_186']\n"
     ]
    },
    {
     "name": "stderr",
     "output_type": "stream",
     "text": [
      "\r",
      " 35%|██████████████████████                                         | 63/180 [05:47<14:13,  7.30s/it]"
     ]
    },
    {
     "name": "stdout",
     "output_type": "stream",
     "text": [
      "['AGBT13B_312', 'AGBT15A_186']\n"
     ]
    },
    {
     "name": "stderr",
     "output_type": "stream",
     "text": [
      "\r",
      " 36%|██████████████████████▍                                        | 64/180 [05:55<14:53,  7.70s/it]"
     ]
    },
    {
     "name": "stdout",
     "output_type": "stream",
     "text": [
      "['AGBT13B_312', 'AGBT15A_186', 'AGBT16A_353']\n"
     ]
    },
    {
     "name": "stderr",
     "output_type": "stream",
     "text": [
      "\r",
      " 36%|██████████████████████▊                                        | 65/180 [06:06<16:13,  8.47s/it]"
     ]
    },
    {
     "name": "stdout",
     "output_type": "stream",
     "text": [
      "['AGBT13B_312', 'AGBT15A_186', 'AGBT16A_353']\n"
     ]
    },
    {
     "name": "stderr",
     "output_type": "stream",
     "text": [
      "\r",
      " 37%|███████████████████████                                        | 66/180 [06:12<14:36,  7.69s/it]"
     ]
    },
    {
     "name": "stdout",
     "output_type": "stream",
     "text": [
      "['AGBT13B_312', 'AGBT15A_186', 'AGBT16A_353']\n"
     ]
    },
    {
     "name": "stderr",
     "output_type": "stream",
     "text": [
      "\r",
      " 37%|███████████████████████▍                                       | 67/180 [06:20<14:46,  7.84s/it]"
     ]
    },
    {
     "name": "stdout",
     "output_type": "stream",
     "text": [
      "['AGBT13B_312', 'AGBT15A_186', 'AGBT16A_353']\n"
     ]
    },
    {
     "name": "stderr",
     "output_type": "stream",
     "text": [
      "\r",
      " 38%|███████████████████████▊                                       | 68/180 [06:31<16:17,  8.73s/it]"
     ]
    },
    {
     "name": "stdout",
     "output_type": "stream",
     "text": [
      "['AGBT13B_312', 'AGBT15A_186', 'AGBT16A_353']\n"
     ]
    },
    {
     "name": "stderr",
     "output_type": "stream",
     "text": [
      "\r",
      " 38%|████████████████████████▏                                      | 69/180 [06:41<16:54,  9.14s/it]"
     ]
    },
    {
     "name": "stdout",
     "output_type": "stream",
     "text": [
      "['AGBT13B_312', 'AGBT15A_186', 'AGBT16A_353']\n"
     ]
    },
    {
     "name": "stderr",
     "output_type": "stream",
     "text": [
      "\r",
      " 39%|████████████████████████▌                                      | 70/180 [06:44<13:40,  7.46s/it]"
     ]
    },
    {
     "name": "stdout",
     "output_type": "stream",
     "text": [
      "['AGBT13B_312', 'AGBT15A_186', 'AGBT16A_353']\n"
     ]
    },
    {
     "name": "stderr",
     "output_type": "stream",
     "text": [
      "\r",
      " 39%|████████████████████████▊                                      | 71/180 [06:50<12:51,  7.08s/it]"
     ]
    },
    {
     "name": "stdout",
     "output_type": "stream",
     "text": [
      "['AGBT13B_312', 'AGBT15A_186', 'AGBT16A_353']\n"
     ]
    },
    {
     "name": "stderr",
     "output_type": "stream",
     "text": [
      "\r",
      " 40%|█████████████████████████▏                                     | 72/180 [06:55<11:11,  6.21s/it]"
     ]
    },
    {
     "name": "stdout",
     "output_type": "stream",
     "text": [
      "['AGBT13B_312', 'AGBT15A_186', 'AGBT16A_353']\n"
     ]
    },
    {
     "name": "stderr",
     "output_type": "stream",
     "text": [
      "\r",
      " 41%|█████████████████████████▌                                     | 73/180 [06:59<10:19,  5.79s/it]"
     ]
    },
    {
     "name": "stdout",
     "output_type": "stream",
     "text": [
      "['AGBT13B_312', 'AGBT15A_186', 'AGBT16A_353']\n"
     ]
    },
    {
     "name": "stderr",
     "output_type": "stream",
     "text": [
      "\r",
      " 41%|█████████████████████████▉                                     | 74/180 [07:04<09:31,  5.39s/it]"
     ]
    },
    {
     "name": "stdout",
     "output_type": "stream",
     "text": [
      "['AGBT13B_312', 'AGBT15A_186', 'AGBT16A_353']\n"
     ]
    },
    {
     "name": "stderr",
     "output_type": "stream",
     "text": [
      "\r",
      " 42%|██████████████████████████▎                                    | 75/180 [07:10<09:34,  5.47s/it]"
     ]
    },
    {
     "name": "stdout",
     "output_type": "stream",
     "text": [
      "['AGBT13B_312', 'AGBT15A_186', 'AGBT16A_353']\n"
     ]
    },
    {
     "name": "stderr",
     "output_type": "stream",
     "text": [
      "\r",
      " 42%|██████████████████████████▌                                    | 76/180 [07:15<09:30,  5.49s/it]"
     ]
    },
    {
     "name": "stdout",
     "output_type": "stream",
     "text": [
      "['AGBT13B_312', 'AGBT15A_186', 'AGBT16A_353']\n"
     ]
    },
    {
     "name": "stderr",
     "output_type": "stream",
     "text": [
      "\r",
      " 43%|██████████████████████████▉                                    | 77/180 [07:24<11:00,  6.41s/it]"
     ]
    },
    {
     "name": "stdout",
     "output_type": "stream",
     "text": [
      "['AGBT13B_312', 'AGBT15A_186', 'AGBT16A_353']\n"
     ]
    },
    {
     "name": "stderr",
     "output_type": "stream",
     "text": [
      "\r",
      " 43%|███████████████████████████▎                                   | 78/180 [07:31<11:25,  6.72s/it]"
     ]
    },
    {
     "name": "stdout",
     "output_type": "stream",
     "text": [
      "['AGBT13B_312', 'AGBT15A_186', 'AGBT16A_353']\n"
     ]
    },
    {
     "name": "stderr",
     "output_type": "stream",
     "text": [
      "\r",
      " 44%|███████████████████████████▋                                   | 79/180 [07:36<10:16,  6.11s/it]"
     ]
    },
    {
     "name": "stdout",
     "output_type": "stream",
     "text": [
      "['AGBT13B_312', 'AGBT15A_186', 'AGBT16A_353']\n"
     ]
    },
    {
     "name": "stderr",
     "output_type": "stream",
     "text": [
      "\r",
      " 44%|████████████████████████████                                   | 80/180 [07:47<12:36,  7.57s/it]"
     ]
    },
    {
     "name": "stdout",
     "output_type": "stream",
     "text": [
      "['AGBT13B_312', 'AGBT15A_186', 'AGBT16A_353']\n"
     ]
    },
    {
     "name": "stderr",
     "output_type": "stream",
     "text": [
      "\r",
      " 45%|████████████████████████████▎                                  | 81/180 [07:49<10:04,  6.10s/it]"
     ]
    },
    {
     "name": "stdout",
     "output_type": "stream",
     "text": [
      "['AGBT13B_312', 'AGBT15A_186', 'AGBT16A_353']\n"
     ]
    },
    {
     "name": "stderr",
     "output_type": "stream",
     "text": [
      "\r",
      " 46%|████████████████████████████▋                                  | 82/180 [07:57<10:47,  6.61s/it]"
     ]
    },
    {
     "name": "stdout",
     "output_type": "stream",
     "text": [
      "['AGBT13B_312', 'AGBT15A_186', 'AGBT16A_353']\n"
     ]
    },
    {
     "name": "stderr",
     "output_type": "stream",
     "text": [
      "\r",
      " 46%|█████████████████████████████                                  | 83/180 [08:04<10:42,  6.63s/it]"
     ]
    },
    {
     "name": "stdout",
     "output_type": "stream",
     "text": [
      "['AGBT13B_312', 'AGBT15A_186', 'AGBT16A_353']\n"
     ]
    },
    {
     "name": "stderr",
     "output_type": "stream",
     "text": [
      "\r",
      " 47%|█████████████████████████████▍                                 | 84/180 [08:08<09:36,  6.00s/it]"
     ]
    },
    {
     "name": "stdout",
     "output_type": "stream",
     "text": [
      "['AGBT13B_312', 'AGBT15A_186', 'AGBT16A_353']\n"
     ]
    },
    {
     "name": "stderr",
     "output_type": "stream",
     "text": [
      "\r",
      " 47%|█████████████████████████████▊                                 | 85/180 [08:14<09:31,  6.02s/it]"
     ]
    },
    {
     "name": "stdout",
     "output_type": "stream",
     "text": [
      "['AGBT13B_312', 'AGBT15A_186', 'AGBT16A_353']\n"
     ]
    },
    {
     "name": "stderr",
     "output_type": "stream",
     "text": [
      "\r",
      " 48%|██████████████████████████████                                 | 86/180 [08:25<11:22,  7.26s/it]"
     ]
    },
    {
     "name": "stdout",
     "output_type": "stream",
     "text": [
      "['AGBT13B_312', 'AGBT15A_186', 'AGBT16A_353']\n"
     ]
    },
    {
     "name": "stderr",
     "output_type": "stream",
     "text": [
      "\r",
      " 48%|██████████████████████████████▍                                | 87/180 [08:29<09:54,  6.40s/it]"
     ]
    },
    {
     "name": "stdout",
     "output_type": "stream",
     "text": [
      "['AGBT13B_312', 'AGBT15A_186', 'AGBT16A_353']\n"
     ]
    },
    {
     "name": "stderr",
     "output_type": "stream",
     "text": [
      "\r",
      " 49%|██████████████████████████████▊                                | 88/180 [08:37<10:25,  6.80s/it]"
     ]
    },
    {
     "name": "stdout",
     "output_type": "stream",
     "text": [
      "['AGBT13B_312', 'AGBT15A_186', 'AGBT16A_353']\n"
     ]
    },
    {
     "name": "stderr",
     "output_type": "stream",
     "text": [
      "\r",
      " 49%|███████████████████████████████▏                               | 89/180 [08:45<10:47,  7.12s/it]"
     ]
    },
    {
     "name": "stdout",
     "output_type": "stream",
     "text": [
      "['AGBT13B_312', 'AGBT15A_186', 'AGBT16A_353']\n"
     ]
    },
    {
     "name": "stderr",
     "output_type": "stream",
     "text": [
      "\r",
      " 50%|███████████████████████████████▌                               | 90/180 [08:46<07:59,  5.33s/it]"
     ]
    },
    {
     "name": "stdout",
     "output_type": "stream",
     "text": [
      "['AGBT13B_312', 'AGBT15A_186', 'AGBT16A_353']\n"
     ]
    },
    {
     "name": "stderr",
     "output_type": "stream",
     "text": [
      "\r",
      " 51%|███████████████████████████████▊                               | 91/180 [08:52<08:13,  5.54s/it]"
     ]
    },
    {
     "name": "stdout",
     "output_type": "stream",
     "text": [
      "['AGBT13B_312', 'AGBT15A_186', 'AGBT16A_353']\n"
     ]
    },
    {
     "name": "stderr",
     "output_type": "stream",
     "text": [
      "\r",
      " 51%|████████████████████████████████▏                              | 92/180 [08:54<06:27,  4.41s/it]"
     ]
    },
    {
     "name": "stdout",
     "output_type": "stream",
     "text": [
      "['AGBT13B_312', 'AGBT15A_186', 'AGBT16A_353']\n"
     ]
    },
    {
     "name": "stderr",
     "output_type": "stream",
     "text": [
      "\r",
      " 52%|████████████████████████████████▌                              | 93/180 [08:59<06:53,  4.75s/it]"
     ]
    },
    {
     "name": "stdout",
     "output_type": "stream",
     "text": [
      "['AGBT13B_312', 'AGBT15A_186', 'AGBT16A_353']\n"
     ]
    },
    {
     "name": "stderr",
     "output_type": "stream",
     "text": [
      "\r",
      " 52%|████████████████████████████████▉                              | 94/180 [09:04<06:50,  4.78s/it]"
     ]
    },
    {
     "name": "stdout",
     "output_type": "stream",
     "text": [
      "['AGBT13B_312', 'AGBT15A_186', 'AGBT16A_353']\n"
     ]
    },
    {
     "name": "stderr",
     "output_type": "stream",
     "text": [
      "\r",
      " 53%|█████████████████████████████████▎                             | 95/180 [09:11<07:52,  5.56s/it]"
     ]
    },
    {
     "name": "stdout",
     "output_type": "stream",
     "text": [
      "['AGBT13B_312', 'AGBT15A_186', 'AGBT16A_353']\n"
     ]
    },
    {
     "name": "stderr",
     "output_type": "stream",
     "text": [
      "\r",
      " 53%|█████████████████████████████████▌                             | 96/180 [09:16<07:15,  5.18s/it]"
     ]
    },
    {
     "name": "stdout",
     "output_type": "stream",
     "text": [
      "['AGBT13B_312', 'AGBT15A_186', 'AGBT16A_353']\n"
     ]
    },
    {
     "name": "stderr",
     "output_type": "stream",
     "text": [
      "\r",
      " 54%|█████████████████████████████████▉                             | 97/180 [09:19<06:25,  4.64s/it]"
     ]
    },
    {
     "name": "stdout",
     "output_type": "stream",
     "text": [
      "['AGBT13B_312', 'AGBT15A_186', 'AGBT16A_353']\n"
     ]
    },
    {
     "name": "stderr",
     "output_type": "stream",
     "text": [
      "\r",
      " 54%|██████████████████████████████████▎                            | 98/180 [09:26<07:17,  5.33s/it]"
     ]
    },
    {
     "name": "stdout",
     "output_type": "stream",
     "text": [
      "['AGBT13B_312', 'AGBT15A_186', 'AGBT16A_353']\n"
     ]
    },
    {
     "name": "stderr",
     "output_type": "stream",
     "text": [
      "\r",
      " 55%|██████████████████████████████████▋                            | 99/180 [09:30<06:48,  5.05s/it]"
     ]
    },
    {
     "name": "stdout",
     "output_type": "stream",
     "text": [
      "['AGBT13B_312', 'AGBT15A_186', 'AGBT16A_353']\n"
     ]
    },
    {
     "name": "stderr",
     "output_type": "stream",
     "text": [
      "\r",
      " 56%|██████████████████████████████████▍                           | 100/180 [09:36<06:59,  5.24s/it]"
     ]
    },
    {
     "name": "stdout",
     "output_type": "stream",
     "text": [
      "['AGBT13B_312', 'AGBT15A_186', 'AGBT16A_353']\n"
     ]
    },
    {
     "name": "stderr",
     "output_type": "stream",
     "text": [
      "\r",
      " 56%|██████████████████████████████████▊                           | 101/180 [09:44<07:53,  6.00s/it]"
     ]
    },
    {
     "name": "stdout",
     "output_type": "stream",
     "text": [
      "['AGBT13B_312', 'AGBT15A_186', 'AGBT16A_353']\n"
     ]
    },
    {
     "name": "stderr",
     "output_type": "stream",
     "text": [
      "\r",
      " 57%|███████████████████████████████████▏                          | 102/180 [09:47<06:49,  5.25s/it]"
     ]
    },
    {
     "name": "stdout",
     "output_type": "stream",
     "text": [
      "['AGBT13B_312', 'AGBT15A_186', 'AGBT16A_353']\n"
     ]
    },
    {
     "name": "stderr",
     "output_type": "stream",
     "text": [
      "\r",
      " 57%|███████████████████████████████████▍                          | 103/180 [09:52<06:32,  5.10s/it]"
     ]
    },
    {
     "name": "stdout",
     "output_type": "stream",
     "text": [
      "['AGBT13B_312', 'AGBT15A_186', 'AGBT16A_353']\n"
     ]
    },
    {
     "name": "stderr",
     "output_type": "stream",
     "text": [
      "\r",
      " 58%|███████████████████████████████████▊                          | 104/180 [09:56<06:08,  4.85s/it]"
     ]
    },
    {
     "name": "stdout",
     "output_type": "stream",
     "text": [
      "['AGBT13B_312', 'AGBT15A_186', 'AGBT16A_353']\n"
     ]
    },
    {
     "name": "stderr",
     "output_type": "stream",
     "text": [
      "\r",
      " 58%|████████████████████████████████████▏                         | 105/180 [09:59<05:24,  4.33s/it]"
     ]
    },
    {
     "name": "stdout",
     "output_type": "stream",
     "text": [
      "['AGBT13B_312', 'AGBT15A_186', 'AGBT16A_353']\n"
     ]
    },
    {
     "name": "stderr",
     "output_type": "stream",
     "text": [
      "\r",
      " 59%|████████████████████████████████████▌                         | 106/180 [10:03<04:55,  4.00s/it]"
     ]
    },
    {
     "name": "stdout",
     "output_type": "stream",
     "text": [
      "['AGBT13B_312', 'AGBT15A_186', 'AGBT16A_353']\n"
     ]
    },
    {
     "name": "stderr",
     "output_type": "stream",
     "text": [
      "\r",
      " 59%|████████████████████████████████████▊                         | 107/180 [10:07<05:08,  4.22s/it]"
     ]
    },
    {
     "name": "stdout",
     "output_type": "stream",
     "text": [
      "['AGBT13B_312', 'AGBT15A_186', 'AGBT16A_353']\n"
     ]
    },
    {
     "name": "stderr",
     "output_type": "stream",
     "text": [
      "\r",
      " 60%|█████████████████████████████████████▏                        | 108/180 [10:12<05:08,  4.28s/it]"
     ]
    },
    {
     "name": "stdout",
     "output_type": "stream",
     "text": [
      "['AGBT13B_312', 'AGBT15A_186', 'AGBT16A_353']\n"
     ]
    },
    {
     "name": "stderr",
     "output_type": "stream",
     "text": [
      "\r",
      " 61%|█████████████████████████████████████▌                        | 109/180 [10:14<04:29,  3.79s/it]"
     ]
    },
    {
     "name": "stdout",
     "output_type": "stream",
     "text": [
      "['AGBT13B_312', 'AGBT15A_186', 'AGBT16A_353']\n"
     ]
    },
    {
     "name": "stderr",
     "output_type": "stream",
     "text": [
      "\r",
      " 61%|█████████████████████████████████████▉                        | 110/180 [10:17<04:04,  3.49s/it]"
     ]
    },
    {
     "name": "stdout",
     "output_type": "stream",
     "text": [
      "['AGBT13B_312', 'AGBT15A_186', 'AGBT16A_353']\n"
     ]
    },
    {
     "name": "stderr",
     "output_type": "stream",
     "text": [
      "\r",
      " 62%|██████████████████████████████████████▏                       | 111/180 [10:24<05:14,  4.56s/it]"
     ]
    },
    {
     "name": "stdout",
     "output_type": "stream",
     "text": [
      "['AGBT13B_312', 'AGBT15A_186', 'AGBT16A_353']\n"
     ]
    },
    {
     "name": "stderr",
     "output_type": "stream",
     "text": [
      "\r",
      " 62%|██████████████████████████████████████▌                       | 112/180 [10:34<06:50,  6.04s/it]"
     ]
    },
    {
     "name": "stdout",
     "output_type": "stream",
     "text": [
      "['AGBT13B_312', 'AGBT15A_186', 'AGBT16A_353']\n"
     ]
    },
    {
     "name": "stderr",
     "output_type": "stream",
     "text": [
      "\r",
      " 63%|██████████████████████████████████████▉                       | 113/180 [10:38<06:07,  5.49s/it]"
     ]
    },
    {
     "name": "stdout",
     "output_type": "stream",
     "text": [
      "['AGBT13B_312', 'AGBT15A_186', 'AGBT16A_353']\n"
     ]
    },
    {
     "name": "stderr",
     "output_type": "stream",
     "text": [
      "\r",
      " 63%|███████████████████████████████████████▎                      | 114/180 [10:46<06:52,  6.26s/it]"
     ]
    },
    {
     "name": "stdout",
     "output_type": "stream",
     "text": [
      "['AGBT13B_312', 'AGBT15A_186', 'AGBT16A_353']\n"
     ]
    },
    {
     "name": "stderr",
     "output_type": "stream",
     "text": [
      "\r",
      " 64%|███████████████████████████████████████▌                      | 115/180 [10:51<06:14,  5.77s/it]"
     ]
    },
    {
     "name": "stdout",
     "output_type": "stream",
     "text": [
      "['AGBT13B_312', 'AGBT15A_186', 'AGBT16A_353']\n"
     ]
    },
    {
     "name": "stderr",
     "output_type": "stream",
     "text": [
      "\r",
      " 64%|███████████████████████████████████████▉                      | 116/180 [10:58<06:38,  6.22s/it]"
     ]
    },
    {
     "name": "stdout",
     "output_type": "stream",
     "text": [
      "['AGBT13B_312', 'AGBT15A_186', 'AGBT16A_353']\n"
     ]
    },
    {
     "name": "stderr",
     "output_type": "stream",
     "text": [
      "\r",
      " 65%|████████████████████████████████████████▎                     | 117/180 [11:03<06:06,  5.82s/it]"
     ]
    },
    {
     "name": "stdout",
     "output_type": "stream",
     "text": [
      "['AGBT13B_312', 'AGBT15A_186', 'AGBT16A_353']\n"
     ]
    },
    {
     "name": "stderr",
     "output_type": "stream",
     "text": [
      "\r",
      " 66%|████████████████████████████████████████▋                     | 118/180 [11:08<05:54,  5.72s/it]"
     ]
    },
    {
     "name": "stdout",
     "output_type": "stream",
     "text": [
      "['AGBT13B_312', 'AGBT15A_186', 'AGBT16A_353']\n"
     ]
    },
    {
     "name": "stderr",
     "output_type": "stream",
     "text": [
      "\r",
      " 66%|████████████████████████████████████████▉                     | 119/180 [11:13<05:25,  5.34s/it]"
     ]
    },
    {
     "name": "stdout",
     "output_type": "stream",
     "text": [
      "['AGBT13B_312', 'AGBT15A_186', 'AGBT16A_353']\n"
     ]
    },
    {
     "name": "stderr",
     "output_type": "stream",
     "text": [
      "\r",
      " 67%|█████████████████████████████████████████▎                    | 120/180 [11:15<04:29,  4.48s/it]"
     ]
    },
    {
     "name": "stdout",
     "output_type": "stream",
     "text": [
      "['AGBT13B_312', 'AGBT15A_186', 'AGBT16A_353']\n"
     ]
    },
    {
     "name": "stderr",
     "output_type": "stream",
     "text": [
      "\r",
      " 67%|█████████████████████████████████████████▋                    | 121/180 [11:21<04:55,  5.01s/it]"
     ]
    },
    {
     "name": "stdout",
     "output_type": "stream",
     "text": [
      "['AGBT13B_312', 'AGBT15A_186', 'AGBT16A_353']\n"
     ]
    },
    {
     "name": "stderr",
     "output_type": "stream",
     "text": [
      "\r",
      " 68%|██████████████████████████████████████████                    | 122/180 [11:26<04:47,  4.96s/it]"
     ]
    },
    {
     "name": "stdout",
     "output_type": "stream",
     "text": [
      "['AGBT13B_312', 'AGBT15A_186', 'AGBT16A_353']\n"
     ]
    },
    {
     "name": "stderr",
     "output_type": "stream",
     "text": [
      "\r",
      " 68%|██████████████████████████████████████████▎                   | 123/180 [11:30<04:22,  4.60s/it]"
     ]
    },
    {
     "name": "stdout",
     "output_type": "stream",
     "text": [
      "['AGBT13B_312', 'AGBT15A_186', 'AGBT16A_353']\n"
     ]
    },
    {
     "name": "stderr",
     "output_type": "stream",
     "text": [
      "\r",
      " 69%|██████████████████████████████████████████▋                   | 124/180 [11:38<05:12,  5.59s/it]"
     ]
    },
    {
     "name": "stdout",
     "output_type": "stream",
     "text": [
      "['AGBT13B_312', 'AGBT15A_186', 'AGBT16A_353']\n"
     ]
    },
    {
     "name": "stderr",
     "output_type": "stream",
     "text": [
      "\r",
      " 69%|███████████████████████████████████████████                   | 125/180 [11:46<05:47,  6.32s/it]"
     ]
    },
    {
     "name": "stdout",
     "output_type": "stream",
     "text": [
      "['AGBT13B_312', 'AGBT15A_186', 'AGBT16A_353']\n"
     ]
    },
    {
     "name": "stderr",
     "output_type": "stream",
     "text": [
      "\r",
      " 70%|███████████████████████████████████████████▍                  | 126/180 [11:53<05:56,  6.61s/it]"
     ]
    },
    {
     "name": "stdout",
     "output_type": "stream",
     "text": [
      "['AGBT13B_312', 'AGBT15A_186', 'AGBT16A_353']\n"
     ]
    },
    {
     "name": "stderr",
     "output_type": "stream",
     "text": [
      "\r",
      " 71%|███████████████████████████████████████████▋                  | 127/180 [11:58<05:18,  6.01s/it]"
     ]
    },
    {
     "name": "stdout",
     "output_type": "stream",
     "text": [
      "['AGBT13B_312', 'AGBT15A_186', 'AGBT16A_353']\n"
     ]
    },
    {
     "name": "stderr",
     "output_type": "stream",
     "text": [
      "\r",
      " 71%|████████████████████████████████████████████                  | 128/180 [12:08<06:22,  7.36s/it]"
     ]
    },
    {
     "name": "stdout",
     "output_type": "stream",
     "text": [
      "['AGBT13B_312', 'AGBT15A_186', 'AGBT16A_353']\n"
     ]
    },
    {
     "name": "stderr",
     "output_type": "stream",
     "text": [
      "\r",
      " 72%|████████████████████████████████████████████▍                 | 129/180 [12:13<05:40,  6.67s/it]"
     ]
    },
    {
     "name": "stdout",
     "output_type": "stream",
     "text": [
      "['AGBT13B_312', 'AGBT15A_186', 'AGBT16A_353']\n"
     ]
    },
    {
     "name": "stderr",
     "output_type": "stream",
     "text": [
      "\r",
      " 72%|████████████████████████████████████████████▊                 | 130/180 [12:19<05:22,  6.45s/it]"
     ]
    },
    {
     "name": "stdout",
     "output_type": "stream",
     "text": [
      "['AGBT13B_312', 'AGBT15A_186', 'AGBT16A_353']\n"
     ]
    },
    {
     "name": "stderr",
     "output_type": "stream",
     "text": [
      "\r",
      " 73%|█████████████████████████████████████████████                 | 131/180 [12:26<05:17,  6.47s/it]"
     ]
    },
    {
     "name": "stdout",
     "output_type": "stream",
     "text": [
      "['AGBT13B_312', 'AGBT15A_186', 'AGBT16A_353']\n"
     ]
    },
    {
     "name": "stderr",
     "output_type": "stream",
     "text": [
      "\r",
      " 73%|█████████████████████████████████████████████▍                | 132/180 [12:34<05:31,  6.91s/it]"
     ]
    },
    {
     "name": "stdout",
     "output_type": "stream",
     "text": [
      "['AGBT13B_312', 'AGBT15A_186', 'AGBT16A_353']\n"
     ]
    },
    {
     "name": "stderr",
     "output_type": "stream",
     "text": [
      "\r",
      " 74%|█████████████████████████████████████████████▊                | 133/180 [12:40<05:20,  6.81s/it]"
     ]
    },
    {
     "name": "stdout",
     "output_type": "stream",
     "text": [
      "['AGBT13B_312', 'AGBT15A_186', 'AGBT16A_353']\n"
     ]
    },
    {
     "name": "stderr",
     "output_type": "stream",
     "text": [
      "\r",
      " 74%|██████████████████████████████████████████████▏               | 134/180 [12:45<04:45,  6.22s/it]"
     ]
    },
    {
     "name": "stdout",
     "output_type": "stream",
     "text": [
      "['AGBT13B_312', 'AGBT15A_186', 'AGBT16A_353']\n"
     ]
    },
    {
     "name": "stderr",
     "output_type": "stream",
     "text": [
      "\r",
      " 75%|██████████████████████████████████████████████▌               | 135/180 [12:51<04:37,  6.17s/it]"
     ]
    },
    {
     "name": "stdout",
     "output_type": "stream",
     "text": [
      "['AGBT13B_312', 'AGBT15A_186', 'AGBT16A_353']\n"
     ]
    },
    {
     "name": "stderr",
     "output_type": "stream",
     "text": [
      "\r",
      " 76%|██████████████████████████████████████████████▊               | 136/180 [12:56<04:08,  5.64s/it]"
     ]
    },
    {
     "name": "stdout",
     "output_type": "stream",
     "text": [
      "['AGBT13B_312', 'AGBT15A_186', 'AGBT16A_353']\n"
     ]
    },
    {
     "name": "stderr",
     "output_type": "stream",
     "text": [
      "\r",
      " 76%|███████████████████████████████████████████████▏              | 137/180 [12:59<03:26,  4.80s/it]"
     ]
    },
    {
     "name": "stdout",
     "output_type": "stream",
     "text": [
      "['AGBT13B_312', 'AGBT15A_186', 'AGBT16A_353']\n"
     ]
    },
    {
     "name": "stderr",
     "output_type": "stream",
     "text": [
      "\r",
      " 77%|███████████████████████████████████████████████▌              | 138/180 [13:01<02:53,  4.14s/it]"
     ]
    },
    {
     "name": "stdout",
     "output_type": "stream",
     "text": [
      "['AGBT13B_312', 'AGBT15A_186', 'AGBT16A_353']\n"
     ]
    },
    {
     "name": "stderr",
     "output_type": "stream",
     "text": [
      "\r",
      " 77%|███████████████████████████████████████████████▉              | 139/180 [13:06<03:03,  4.47s/it]"
     ]
    },
    {
     "name": "stdout",
     "output_type": "stream",
     "text": [
      "['AGBT13B_312', 'AGBT15A_186', 'AGBT16A_353']\n"
     ]
    },
    {
     "name": "stderr",
     "output_type": "stream",
     "text": [
      "\r",
      " 78%|████████████████████████████████████████████████▏             | 140/180 [13:11<02:57,  4.45s/it]"
     ]
    },
    {
     "name": "stdout",
     "output_type": "stream",
     "text": [
      "['AGBT13B_312', 'AGBT15A_186', 'AGBT16A_353']\n"
     ]
    },
    {
     "name": "stderr",
     "output_type": "stream",
     "text": [
      "\r",
      " 78%|████████████████████████████████████████████████▌             | 141/180 [13:16<02:57,  4.55s/it]"
     ]
    },
    {
     "name": "stdout",
     "output_type": "stream",
     "text": [
      "['AGBT13B_312', 'AGBT15A_186', 'AGBT16A_353']\n"
     ]
    },
    {
     "name": "stderr",
     "output_type": "stream",
     "text": [
      "\r",
      " 79%|████████████████████████████████████████████████▉             | 142/180 [13:19<02:41,  4.26s/it]"
     ]
    },
    {
     "name": "stdout",
     "output_type": "stream",
     "text": [
      "['AGBT13B_312', 'AGBT15A_186', 'AGBT16A_353']\n"
     ]
    },
    {
     "name": "stderr",
     "output_type": "stream",
     "text": [
      "\r",
      " 79%|█████████████████████████████████████████████████▎            | 143/180 [13:24<02:43,  4.41s/it]"
     ]
    },
    {
     "name": "stdout",
     "output_type": "stream",
     "text": [
      "['AGBT13B_312', 'AGBT15A_186', 'AGBT16A_353']\n"
     ]
    },
    {
     "name": "stderr",
     "output_type": "stream",
     "text": [
      "\r",
      " 80%|█████████████████████████████████████████████████▌            | 144/180 [13:30<02:53,  4.83s/it]"
     ]
    },
    {
     "name": "stdout",
     "output_type": "stream",
     "text": [
      "['AGBT13B_312', 'AGBT15A_186', 'AGBT16A_353']\n"
     ]
    },
    {
     "name": "stderr",
     "output_type": "stream",
     "text": [
      "\r",
      " 81%|█████████████████████████████████████████████████▉            | 145/180 [13:34<02:45,  4.73s/it]"
     ]
    },
    {
     "name": "stdout",
     "output_type": "stream",
     "text": [
      "['AGBT13B_312', 'AGBT15A_186', 'AGBT16A_353']\n"
     ]
    },
    {
     "name": "stderr",
     "output_type": "stream",
     "text": [
      "\r",
      " 81%|██████████████████████████████████████████████████▎           | 146/180 [13:41<02:57,  5.23s/it]"
     ]
    },
    {
     "name": "stdout",
     "output_type": "stream",
     "text": [
      "['AGBT13B_312', 'AGBT15A_186', 'AGBT16A_353']\n"
     ]
    },
    {
     "name": "stderr",
     "output_type": "stream",
     "text": [
      "\r",
      " 82%|██████████████████████████████████████████████████▋           | 147/180 [13:45<02:41,  4.89s/it]"
     ]
    },
    {
     "name": "stdout",
     "output_type": "stream",
     "text": [
      "['AGBT13B_312', 'AGBT15A_186', 'AGBT16A_353']\n"
     ]
    },
    {
     "name": "stderr",
     "output_type": "stream",
     "text": [
      "\r",
      " 82%|██████████████████████████████████████████████████▉           | 148/180 [13:53<03:04,  5.78s/it]"
     ]
    },
    {
     "name": "stdout",
     "output_type": "stream",
     "text": [
      "['AGBT13B_312', 'AGBT15A_186', 'AGBT16A_353']\n"
     ]
    },
    {
     "name": "stderr",
     "output_type": "stream",
     "text": [
      "\r",
      " 83%|███████████████████████████████████████████████████▎          | 149/180 [13:58<02:53,  5.59s/it]"
     ]
    },
    {
     "name": "stdout",
     "output_type": "stream",
     "text": [
      "['AGBT13B_312', 'AGBT15A_186', 'AGBT16A_353']\n"
     ]
    },
    {
     "name": "stderr",
     "output_type": "stream",
     "text": [
      "\r",
      " 83%|███████████████████████████████████████████████████▋          | 150/180 [14:07<03:16,  6.56s/it]"
     ]
    },
    {
     "name": "stdout",
     "output_type": "stream",
     "text": [
      "['AGBT13B_312', 'AGBT15A_186', 'AGBT16A_353']\n"
     ]
    },
    {
     "name": "stderr",
     "output_type": "stream",
     "text": [
      "\r",
      " 84%|████████████████████████████████████████████████████          | 151/180 [14:14<03:14,  6.72s/it]"
     ]
    },
    {
     "name": "stdout",
     "output_type": "stream",
     "text": [
      "['AGBT13B_312', 'AGBT15A_186', 'AGBT16A_353']\n"
     ]
    },
    {
     "name": "stderr",
     "output_type": "stream",
     "text": [
      "\r",
      " 84%|████████████████████████████████████████████████████▎         | 152/180 [14:20<03:04,  6.60s/it]"
     ]
    },
    {
     "name": "stdout",
     "output_type": "stream",
     "text": [
      "['AGBT13B_312', 'AGBT15A_186', 'AGBT16A_353']\n"
     ]
    },
    {
     "name": "stderr",
     "output_type": "stream",
     "text": [
      "\r",
      " 85%|████████████████████████████████████████████████████▋         | 153/180 [14:24<02:38,  5.89s/it]"
     ]
    },
    {
     "name": "stdout",
     "output_type": "stream",
     "text": [
      "['AGBT13B_312', 'AGBT15A_186', 'AGBT16A_353']\n"
     ]
    },
    {
     "name": "stderr",
     "output_type": "stream",
     "text": [
      "\r",
      " 86%|█████████████████████████████████████████████████████         | 154/180 [14:28<02:14,  5.18s/it]"
     ]
    },
    {
     "name": "stdout",
     "output_type": "stream",
     "text": [
      "['AGBT13B_312', 'AGBT15A_186', 'AGBT16A_353']\n"
     ]
    },
    {
     "name": "stderr",
     "output_type": "stream",
     "text": [
      "\r",
      " 86%|█████████████████████████████████████████████████████▍        | 155/180 [14:37<02:43,  6.53s/it]"
     ]
    },
    {
     "name": "stdout",
     "output_type": "stream",
     "text": [
      "['AGBT13B_312', 'AGBT15A_186', 'AGBT16A_353']\n"
     ]
    },
    {
     "name": "stderr",
     "output_type": "stream",
     "text": [
      "\r",
      " 87%|█████████████████████████████████████████████████████▋        | 156/180 [14:42<02:22,  5.94s/it]"
     ]
    },
    {
     "name": "stdout",
     "output_type": "stream",
     "text": [
      "['AGBT13B_312', 'AGBT15A_186', 'AGBT16A_353']\n"
     ]
    },
    {
     "name": "stderr",
     "output_type": "stream",
     "text": [
      "\r",
      " 87%|██████████████████████████████████████████████████████        | 157/180 [14:47<02:11,  5.70s/it]"
     ]
    },
    {
     "name": "stdout",
     "output_type": "stream",
     "text": [
      "['AGBT13B_312', 'AGBT15A_186', 'AGBT16A_353']\n"
     ]
    },
    {
     "name": "stderr",
     "output_type": "stream",
     "text": [
      "\r",
      " 88%|██████████████████████████████████████████████████████▍       | 158/180 [14:53<02:06,  5.73s/it]"
     ]
    },
    {
     "name": "stdout",
     "output_type": "stream",
     "text": [
      "['AGBT13B_312', 'AGBT15A_186', 'AGBT16A_353']\n"
     ]
    },
    {
     "name": "stderr",
     "output_type": "stream",
     "text": [
      "\r",
      " 88%|██████████████████████████████████████████████████████▊       | 159/180 [14:58<01:54,  5.44s/it]"
     ]
    },
    {
     "name": "stdout",
     "output_type": "stream",
     "text": [
      "['AGBT13B_312', 'AGBT15A_186', 'AGBT16A_353']\n"
     ]
    },
    {
     "name": "stderr",
     "output_type": "stream",
     "text": [
      "\r",
      " 89%|███████████████████████████████████████████████████████       | 160/180 [15:02<01:42,  5.11s/it]"
     ]
    },
    {
     "name": "stdout",
     "output_type": "stream",
     "text": [
      "['AGBT13B_312', 'AGBT15A_186', 'AGBT16A_353']\n"
     ]
    },
    {
     "name": "stderr",
     "output_type": "stream",
     "text": [
      "\r",
      " 89%|███████████████████████████████████████████████████████▍      | 161/180 [15:08<01:43,  5.46s/it]"
     ]
    },
    {
     "name": "stdout",
     "output_type": "stream",
     "text": [
      "['AGBT13B_312', 'AGBT15A_186', 'AGBT16A_353']\n"
     ]
    },
    {
     "name": "stderr",
     "output_type": "stream",
     "text": [
      "\r",
      " 90%|███████████████████████████████████████████████████████▊      | 162/180 [15:13<01:34,  5.23s/it]"
     ]
    },
    {
     "name": "stdout",
     "output_type": "stream",
     "text": [
      "['AGBT13B_312', 'AGBT15A_186', 'AGBT16A_353']\n"
     ]
    },
    {
     "name": "stderr",
     "output_type": "stream",
     "text": [
      "\r",
      " 91%|████████████████████████████████████████████████████████▏     | 163/180 [15:19<01:31,  5.37s/it]"
     ]
    },
    {
     "name": "stdout",
     "output_type": "stream",
     "text": [
      "['AGBT13B_312', 'AGBT15A_186', 'AGBT16A_353']\n"
     ]
    },
    {
     "name": "stderr",
     "output_type": "stream",
     "text": [
      "\r",
      " 91%|████████████████████████████████████████████████████████▍     | 164/180 [15:22<01:14,  4.66s/it]"
     ]
    },
    {
     "name": "stdout",
     "output_type": "stream",
     "text": [
      "['AGBT13B_312', 'AGBT15A_186', 'AGBT16A_353']\n"
     ]
    },
    {
     "name": "stderr",
     "output_type": "stream",
     "text": [
      "\r",
      " 92%|████████████████████████████████████████████████████████▊     | 165/180 [15:26<01:10,  4.67s/it]"
     ]
    },
    {
     "name": "stdout",
     "output_type": "stream",
     "text": [
      "['AGBT13B_312', 'AGBT15A_186', 'AGBT16A_353']\n"
     ]
    },
    {
     "name": "stderr",
     "output_type": "stream",
     "text": [
      "\r",
      " 92%|█████████████████████████████████████████████████████████▏    | 166/180 [15:37<01:29,  6.40s/it]"
     ]
    },
    {
     "name": "stdout",
     "output_type": "stream",
     "text": [
      "['AGBT13B_312', 'AGBT15A_186', 'AGBT16A_353']\n"
     ]
    },
    {
     "name": "stderr",
     "output_type": "stream",
     "text": [
      "\r",
      " 93%|█████████████████████████████████████████████████████████▌    | 167/180 [15:42<01:19,  6.08s/it]"
     ]
    },
    {
     "name": "stdout",
     "output_type": "stream",
     "text": [
      "['AGBT13B_312', 'AGBT15A_186', 'AGBT16A_353']\n"
     ]
    },
    {
     "name": "stderr",
     "output_type": "stream",
     "text": [
      "\r",
      " 93%|█████████████████████████████████████████████████████████▊    | 168/180 [15:48<01:10,  5.90s/it]"
     ]
    },
    {
     "name": "stdout",
     "output_type": "stream",
     "text": [
      "['AGBT13B_312', 'AGBT15A_186', 'AGBT16A_353']\n"
     ]
    },
    {
     "name": "stderr",
     "output_type": "stream",
     "text": [
      "\r",
      " 94%|██████████████████████████████████████████████████████████▏   | 169/180 [15:54<01:08,  6.18s/it]"
     ]
    },
    {
     "name": "stdout",
     "output_type": "stream",
     "text": [
      "['AGBT13B_312', 'AGBT15A_186', 'AGBT16A_353']\n"
     ]
    },
    {
     "name": "stderr",
     "output_type": "stream",
     "text": [
      "\r",
      " 94%|██████████████████████████████████████████████████████████▌   | 170/180 [16:00<01:00,  6.09s/it]"
     ]
    },
    {
     "name": "stdout",
     "output_type": "stream",
     "text": [
      "['AGBT13B_312', 'AGBT15A_186', 'AGBT16A_353']\n"
     ]
    },
    {
     "name": "stderr",
     "output_type": "stream",
     "text": [
      "\r",
      " 95%|██████████████████████████████████████████████████████████▉   | 171/180 [16:09<01:02,  6.90s/it]"
     ]
    },
    {
     "name": "stdout",
     "output_type": "stream",
     "text": [
      "['AGBT13B_312', 'AGBT15A_186', 'AGBT16A_353']\n"
     ]
    },
    {
     "name": "stderr",
     "output_type": "stream",
     "text": [
      "\r",
      " 96%|███████████████████████████████████████████████████████████▏  | 172/180 [16:16<00:55,  6.93s/it]"
     ]
    },
    {
     "name": "stdout",
     "output_type": "stream",
     "text": [
      "['AGBT13B_312', 'AGBT15A_186', 'AGBT16A_353']\n"
     ]
    },
    {
     "name": "stderr",
     "output_type": "stream",
     "text": [
      "\r",
      " 96%|███████████████████████████████████████████████████████████▌  | 173/180 [16:20<00:41,  5.88s/it]"
     ]
    },
    {
     "name": "stdout",
     "output_type": "stream",
     "text": [
      "['AGBT13B_312', 'AGBT15A_186', 'AGBT16A_353']\n"
     ]
    },
    {
     "name": "stderr",
     "output_type": "stream",
     "text": [
      "\r",
      " 97%|███████████████████████████████████████████████████████████▉  | 174/180 [16:28<00:40,  6.74s/it]"
     ]
    },
    {
     "name": "stdout",
     "output_type": "stream",
     "text": [
      "['AGBT13B_312', 'AGBT15A_186', 'AGBT16A_353']\n"
     ]
    },
    {
     "name": "stderr",
     "output_type": "stream",
     "text": [
      "\r",
      " 97%|████████████████████████████████████████████████████████████▎ | 175/180 [16:34<00:31,  6.27s/it]"
     ]
    },
    {
     "name": "stdout",
     "output_type": "stream",
     "text": [
      "['AGBT13B_312', 'AGBT15A_186', 'AGBT16A_353']\n"
     ]
    },
    {
     "name": "stderr",
     "output_type": "stream",
     "text": [
      "\r",
      " 98%|████████████████████████████████████████████████████████████▌ | 176/180 [16:38<00:23,  5.88s/it]"
     ]
    },
    {
     "name": "stdout",
     "output_type": "stream",
     "text": [
      "['AGBT13B_312', 'AGBT15A_186', 'AGBT16A_353']\n"
     ]
    },
    {
     "name": "stderr",
     "output_type": "stream",
     "text": [
      "\r",
      " 98%|████████████████████████████████████████████████████████████▉ | 177/180 [16:42<00:15,  5.19s/it]"
     ]
    },
    {
     "name": "stdout",
     "output_type": "stream",
     "text": [
      "['AGBT13B_312', 'AGBT15A_186', 'AGBT16A_353']\n"
     ]
    },
    {
     "name": "stderr",
     "output_type": "stream",
     "text": [
      "100%|██████████████████████████████████████████████████████████████| 180/180 [16:47<00:00,  5.59s/it]"
     ]
    },
    {
     "name": "stdout",
     "output_type": "stream",
     "text": [
      "['AGBT13B_312', 'AGBT15A_186', 'AGBT16A_353']\n",
      "['AGBT13B_312', 'AGBT15A_186', 'AGBT16A_353']\n",
      "['AGBT13B_312', 'AGBT15A_186', 'AGBT16A_353']\n"
     ]
    },
    {
     "name": "stderr",
     "output_type": "stream",
     "text": [
      "\n"
     ]
    },
    {
     "data": {
      "image/png": "[encoded data removed]",
      "text/plain": [
       "<Figure size 800x600 with 1 Axes>"
      ]
     },
     "metadata": {},
     "output_type": "display_data"
    }
   ],
   "source": [
    "colored_projection_dict(\"/home/scratch/tchamber/antenna_fits/\")"
   ]
  },
  {
   "cell_type": "code",
   "execution_count": null,
   "id": "0f3ad77e",
   "metadata": {},
   "outputs": [],
   "source": [
    "colored_projection_table(\"/home/scratch/tchamber/antenna_fits/\")"
   ]
  },
  {
   "cell_type": "code",
   "execution_count": 44,
   "id": "ea36e6e5",
   "metadata": {},
   "outputs": [],
   "source": [
    "def separated_stack_tables_dict2(rootdir: str):\n",
    "    \"\"\"Returns a dictionary of RA, DEC data corresponding to different projects\"\"\"\n",
    "    tables = {}\n",
    "    paths = list(Path(rootdir).glob(\"*/Antenna/*.fits\"))\n",
    "    for path in tqdm(paths):\n",
    "        split = str(path).split(\"/\")[-3].split(\"_\")\n",
    "        project = \"_\".join(split[:-1])\n",
    "        table = get_raj_decj_data(path)\n",
    "        if project not in list(tables):\n",
    "            tables[project] = [table]\n",
    "        else:\n",
    "            tables[project].append(table)\n",
    "    for project in tables:\n",
    "        tables[project] = vstack(tables[project])\n",
    "    return tables\n",
    "\n",
    "def colored_projection_dict2(directory: str):\n",
    "    fig = plt.figure(figsize=(8, 6))\n",
    "    ax = fig.add_subplot(111, projection=\"mollweide\")\n",
    "    tables = separated_stack_tables_dict2(directory)\n",
    "    for project in tables:\n",
    "        ra = coord.Angle(tables[project][\"RAJ2000\"])\n",
    "        ra = ra.wrap_at(180 * u.degree)\n",
    "        dec = coord.Angle(tables[project][\"DECJ2000\"])\n",
    "        ax.scatter(ra.radian, dec.radian, s=0.5)\n",
    "    ax.set_xticklabels(\n",
    "        [\"14h\", \"16h\", \"18h\", \"20h\", \"22h\", \"0h\", \"2h\", \"4h\", \"6h\", \"8h\", \"10h\"]\n",
    "    )\n",
    "    ax.grid(True)\n",
    "    fig.show()\n",
    "\n",
    "def separated_stack_tables_table2(rootdir: str):\n",
    "    \"\"\"Returns a table of RA, DEC, project name data\"\"\"\n",
    "    stacked_table = []\n",
    "    projects = []\n",
    "    paths = list(Path(rootdir).glob(\"*/Antenna/*.fits\"))\n",
    "    for path in tqdm(paths):\n",
    "        project_match = re.match(r\"[a-zA-Z0-9]+[_][\\d]+[_]\", str(subdir))\n",
    "        if not project_match:\n",
    "            raise ValueError(\"File does not match naming format\")\n",
    "        else:\n",
    "            project = project_match.group(0)[:-1]\n",
    "        table = Table.read(path, hdu=2)\n",
    "        formatted_table = hstack(\n",
    "            [\n",
    "                table[\"RAJ2000\"],\n",
    "                table[\"DECJ2000\"],\n",
    "                Column(name=\"Project\", data=np.full(len(table), project)),\n",
    "            ]\n",
    "        )\n",
    "        stacked_table.append(formatted_table)\n",
    "        if project not in projects:\n",
    "            projects.append(project)\n",
    "    return vstack(stacked_table), projects\n",
    "\n",
    "def colored_projection_table2(directory: str):\n",
    "    fig = plt.figure(figsize=(8, 6))\n",
    "    ax = fig.add_subplot(111, projection=\"mollweide\")\n",
    "    table, projects = separated_stack_tables_table2(directory)\n",
    "    for project in projects:\n",
    "        sliced = table[table[\"Project\"] == project]\n",
    "        ra = coord.Angle(sliced[\"RAJ2000\"])\n",
    "        ra = ra.wrap_at(180 * u.degree)\n",
    "        dec = coord.Angle(sliced[\"DECJ2000\"])\n",
    "        ax.scatter(ra.radian, dec.radian, s=0.5)\n",
    "    ax.set_xticklabels(\n",
    "        [\"14h\", \"16h\", \"18h\", \"20h\", \"22h\", \"0h\", \"2h\", \"4h\", \"6h\", \"8h\", \"10h\"]\n",
    "    )\n",
    "    ax.grid(True)\n",
    "    fig.show()"
   ]
  },
  {
   "cell_type": "code",
   "execution_count": 41,
   "id": "3b2d29df",
   "metadata": {},
   "outputs": [
    {
     "name": "stderr",
     "output_type": "stream",
     "text": [
      "100%|██████████████████████████████████████████████████████████████| 598/598 [00:29<00:00, 20.50it/s]\n"
     ]
    },
    {
     "data": {
      "image/png": "[encoded data removed]",
      "text/plain": [
       "<Figure size 800x600 with 1 Axes>"
      ]
     },
     "metadata": {},
     "output_type": "display_data"
    }
   ],
   "source": [
    "colored_projection_dict2(\"/home/scratch/kwei/raw_data/\")"
   ]
  },
  {
   "cell_type": "code",
   "execution_count": 45,
   "id": "7800b536",
   "metadata": {},
   "outputs": [
    {
     "name": "stderr",
     "output_type": "stream",
     "text": [
      "100%|██████████████████████████████████████████████████████████████| 598/598 [00:29<00:00, 20.35it/s]\n"
     ]
    },
    {
     "data": {
      "image/png": "[encoded data removed]",
      "text/plain": [
       "<Figure size 800x600 with 1 Axes>"
      ]
     },
     "metadata": {},
     "output_type": "display_data"
    }
   ],
   "source": [
    "colored_projection_table2(\"/home/scratch/kwei/raw_data/\")"
   ]
  },
  {
   "cell_type": "code",
   "execution_count": 46,
   "id": "bc30e028",
   "metadata": {},
   "outputs": [
    {
     "name": "stderr",
     "output_type": "stream",
     "text": [
      "100%|██████████████████████████████████████████████████████████| 20780/20780 [16:32<00:00, 20.94it/s]\n"
     ]
    },
    {
     "data": {
      "image/png": "[encoded data removed]",
      "text/plain": [
       "<Figure size 800x600 with 1 Axes>"
      ]
     },
     "metadata": {},
     "output_type": "display_data"
    }
   ],
   "source": [
    "colored_projection_dict2(\"/home/scratch/tchamber/antenna_fits/\")"
   ]
  },
  {
   "cell_type": "code",
   "execution_count": 47,
   "id": "5e1a390e",
   "metadata": {},
   "outputs": [
    {
     "name": "stderr",
     "output_type": "stream",
     "text": [
      "100%|██████████████████████████████████████████████████████████| 20780/20780 [17:06<00:00, 20.25it/s]\n"
     ]
    },
    {
     "data": {
      "image/png": "[encoded data removed]",
      "text/plain": [
       "<Figure size 800x600 with 1 Axes>"
      ]
     },
     "metadata": {},
     "output_type": "display_data"
    }
   ],
   "source": [
    "colored_projection_table2(\"/home/scratch/tchamber/antenna_fits/\")"
   ]
  }
 ],
 "metadata": {
  "kernelspec": {
   "display_name": "Python 3 (ipykernel)",
   "language": "python",
   "name": "python3"
  },
  "language_info": {
   "codemirror_mode": {
    "name": "ipython",
    "version": 3
   },
   "file_extension": ".py",
   "mimetype": "text/x-python",
   "name": "python",
   "nbconvert_exporter": "python",
   "pygments_lexer": "ipython3",
   "version": "3.7.11"
  }
 },
 "nbformat": 4,
 "nbformat_minor": 5
}
